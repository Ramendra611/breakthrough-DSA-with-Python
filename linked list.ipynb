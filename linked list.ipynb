{
 "cells": [
  {
   "cell_type": "markdown",
   "id": "79930f90-845b-4be3-83c5-ee536eaa9df3",
   "metadata": {},
   "source": [
    "# Python implementation of a linked list"
   ]
  },
  {
   "cell_type": "markdown",
   "id": "2bad99a9-c7c0-4fd3-808c-b01167154678",
   "metadata": {},
   "source": [
    "linked_list = 10 -> 20 -> 30"
   ]
  },
  {
   "cell_type": "markdown",
   "id": "2516a5e4-2f9c-4f72-97a7-3e3d15783171",
   "metadata": {},
   "source": [
    "# create a node\n",
    "    - data actual element that is stored\n",
    "    - next reference to next node"
   ]
  },
  {
   "cell_type": "code",
   "execution_count": 442,
   "id": "b9f79849-9773-4fba-b8ca-b0be5c0e6851",
   "metadata": {},
   "outputs": [],
   "source": [
    "class Node:\n",
    "    '''\n",
    "    this is a node in a singly linked list\n",
    "\n",
    "    Attributes:\n",
    "        data\n",
    "        next\n",
    "    '''\n",
    "\n",
    "    def __init__(self, data):\n",
    "        self.data = data\n",
    "        self.next = None\n",
    "        \n",
    "\n",
    "class LinkedList:\n",
    "\n",
    "    def __init__(self):\n",
    "        self.head = None\n",
    "        self.size = 0\n",
    "\n",
    "    def length(self):\n",
    "        \"\"\"\n",
    "        Return number of nodes in the list.\n",
    "        Time Complexity: O(1) because we maintain size.\n",
    "        \"\"\"\n",
    "        return self.size\n",
    "\n",
    "    def is_empty(self):\n",
    "        return self.head is None\n",
    "\n",
    "    \n",
    "    def append(self, value): #insert at end\n",
    "        '''\n",
    "        this method will add a node to the end of the linked list,\n",
    "\n",
    "        Time Complexity: Linear time (O(n)) but if the last node is known then O(1)\n",
    "        '''\n",
    "        ## edge case ( linked list head is empty)\n",
    "        if self.is_empty():\n",
    "            self.head = Node(data = value)\n",
    "            \n",
    "        else:\n",
    "            curr = self.head\n",
    "            while curr.next:\n",
    "                curr = curr.next # move the current pointer ahead\n",
    "            curr.next = Node(data = value) \n",
    "\n",
    "        self.size += 1\n",
    "\n",
    "    '''\n",
    "        insert in beginning\n",
    "        insert at end\n",
    "        insert at any position\n",
    "    '''\n",
    "\n",
    "    def insert_in_beginning(self, value):\n",
    "        '''\n",
    "        This will insert a node to the beginning of the linked list\n",
    "        \n",
    "        Time complexity: O(1)\n",
    "        '''\n",
    "\n",
    "        new_node = Node(value)\n",
    "        new_node.next = self.head  # attach the new node before the current head\n",
    "        self.head = new_node  # move the head to the new node\n",
    "\n",
    "        self.size += 1\n",
    "    \n",
    "\n",
    "    def insert_at_position(self, pos, value):\n",
    "        '''\n",
    "        This method will insert the given value at the given position\n",
    "\n",
    "        Arguments:\n",
    "            pos : the position (0 - indexed) at which the new node will be inserted\n",
    "            value : the data in the new node \n",
    "        \n",
    "        Time Complexity : O(n)  --> because we have to traverse the list\n",
    "                        ( O(1) if the reference of the target position is known )\n",
    "        '''\n",
    "        # size = self.get_size() # this is not efficient as it is  O(n). this can be done in a better way \n",
    "        \n",
    "        # possible edge cases\n",
    "\n",
    "        # edge case 1 :  chak if the position is valid\n",
    "        if pos < 0 or pos > self.size: # invalid positions\n",
    "            raise IndexError(\"The position is invalid!!\")\n",
    "\n",
    "        # edge case 2: if the list is empty --> not applicable\n",
    "\n",
    "        # edge case 3 : pos  is 0 \n",
    "        if pos == 0:  # we need to run the insert_in_beginning function\n",
    "            self.insert_in_beginning(value)\n",
    "            return\n",
    "\n",
    "        node = Node(value)\n",
    "        curr = self.head\n",
    "        for _ in range(pos - 1 ):  # complexity O(n)\n",
    "            curr = curr.next\n",
    "\n",
    "        node.next = curr.next\n",
    "        curr.next = node\n",
    "        self.size += 1\n",
    "    \n",
    "\n",
    "    \n",
    "    '''\n",
    "    delete from beginning\n",
    "    delete from end\n",
    "    delete at any given position\n",
    "    '''\n",
    "    \n",
    "    def delete_from_beginning(self):\n",
    "        '''\n",
    "        this will delete the node at the beginning of the linked list\n",
    "\n",
    "        Time Complexity: Constant Time O(1)\n",
    "        '''\n",
    "\n",
    "        ## edge cases\n",
    "        if self.is_empty():\n",
    "            raise Exception(\"Linkedlist is empty!!\")\n",
    "\n",
    "        self.head = self.head.next\n",
    "        self.size -= 1\n",
    "        ## try to return the deleted element\n",
    "\n",
    "        \n",
    "    def delete_from_end(self):\n",
    "        '''\n",
    "        this will delete the node from the end of a linked list\n",
    "\n",
    "        Time Complexity: Linear Time O(n) \n",
    "\n",
    "        Note:\n",
    "            - If we have DLL, if we maintain a tail pointer, then this operation can be O(1)\n",
    "        '''\n",
    "\n",
    "        ## edge cases1 : linked list is empty\n",
    "        if self.is_empty():\n",
    "             raise Exception(\"Linkedlist is empty!!\")\n",
    "\n",
    "        ## edge case 2: if the linked list has only one element\n",
    "        if self.head.next is None: # there is only one node\n",
    "            self.head = None\n",
    "            \n",
    "        else:\n",
    "            curr = self.head\n",
    "            while curr.next.next: # we are iterating to the 2nd last element\n",
    "                curr = curr.next\n",
    "            curr.next = None\n",
    "\n",
    "        self.size -= 1 # reduce the length of the linked list by 1\n",
    "\n",
    "    # def get_size(self):\n",
    "    #     '''\n",
    "    #     This will traverse the list and count the number of elements in the list\n",
    "        \n",
    "    #     '''\n",
    "    #     ## edge cases\n",
    "    #     if not self.head:\n",
    "    #         return 0\n",
    "\n",
    "    #     counter = 0\n",
    "    #     curr = self.head\n",
    "    #     while curr:\n",
    "    #         counter = counter + 1 \n",
    "    #         curr = curr.next\n",
    "\n",
    "    #     return counter\n",
    "\n",
    "    def delete_at_position(self, pos):\n",
    "        '''\n",
    "        this will delete a node at a given position\n",
    "\n",
    "        Time Complexity:\n",
    "        \n",
    "        '''\n",
    "        ## edge cases1 : linked list is empty\n",
    "        if self.is_empty():\n",
    "             raise Exception(\"Linkedlist is empty!!\")\n",
    "\n",
    "        ## edge Case 2: pos is invalid ( if the pos is less than 0 or more than the size of the list)\n",
    "        if pos < 0 or pos >= self.size:\n",
    "            raise Exception(\"Invalid position given\")\n",
    "\n",
    "        ## edge case 3: pos = 0  which means that we are deleting from beginning\n",
    "        if pos == 0 :\n",
    "            self.delete_from_beginning()\n",
    "            return\n",
    "             \n",
    "\n",
    "        curr = self.head\n",
    "        for _ in range(pos-1):\n",
    "            curr = curr.next\n",
    "\n",
    "        curr.next = curr.next.next\n",
    "        self.size -= 1\n",
    "    \n",
    "    def pop(self):\n",
    "        \n",
    "        pass\n",
    "\n",
    "    def traverse(self):\n",
    "        '''\n",
    "        Traverses the linked list and returs a list of values \n",
    "        of all nodes\n",
    "\n",
    "        Time Complexity: Linear Time [O(n)]\n",
    "        \n",
    "        '''\n",
    "        ## edge cases\n",
    "        if not self.head:\n",
    "            return []\n",
    "\n",
    "        elements = []\n",
    "        curr = self.head\n",
    "        while curr:\n",
    "            elements.append(curr.data)\n",
    "            curr = curr.next\n",
    "\n",
    "        return elements\n",
    "\n",
    "    def __str__(self):\n",
    "        \n",
    "        # returns a string representation of the linked list\n",
    "        ll_str = [str(x) for x in self.traverse()]\n",
    "        return \" -> \".join(ll_str) + \" ->  None\"\n",
    "\n",
    "    def __repr__(self):\n",
    "        \n",
    "        # returns a string representation of the linked list\n",
    "        ll_str = [str(x) for x in self.traverse()]\n",
    "        return \" -> \".join(ll_str) + \" ->  None\"\n",
    "\n",
    "\n",
    "    def __contains__(self, value):\n",
    "        '''\n",
    "        will return if the value is present in the LL using in operator\n",
    "        enables the syntax \n",
    "        \n",
    "        x in ll\n",
    "        '''\n",
    "\n",
    "        return  value in self.traverse()\n",
    "\n",
    "\n",
    "    def __iter__(self):\n",
    "        '''\n",
    "        it will convert the linked list to an iterable\n",
    "        '''\n",
    "        \n",
    "        curr = self.head\n",
    "        while curr:\n",
    "            yield curr.data\n",
    "            curr = curr.next\n",
    "    \n",
    "    def search(self, value):\n",
    "        pass\n",
    "    \n",
    "\n",
    "\n",
    "\n",
    "\n"
   ]
  },
  {
   "cell_type": "code",
   "execution_count": null,
   "id": "0bb25e15-ea16-4af0-a718-f934f8eb0384",
   "metadata": {},
   "outputs": [],
   "source": []
  },
  {
   "cell_type": "code",
   "execution_count": null,
   "id": "21ca6866-62e2-4536-9c15-41a968adab5f",
   "metadata": {},
   "outputs": [],
   "source": []
  },
  {
   "cell_type": "code",
   "execution_count": null,
   "id": "469081a5-ea31-4451-b47c-546b411f6215",
   "metadata": {},
   "outputs": [],
   "source": []
  },
  {
   "cell_type": "code",
   "execution_count": 443,
   "id": "0f93fef6-053a-44a8-bd38-2a2fe2060718",
   "metadata": {},
   "outputs": [],
   "source": [
    "ll = LinkedList()"
   ]
  },
  {
   "cell_type": "code",
   "execution_count": 444,
   "id": "f4144a4c-a4b7-47dc-a57b-a47dfb5d01d3",
   "metadata": {},
   "outputs": [
    {
     "data": {
      "text/plain": [
       "0"
      ]
     },
     "execution_count": 444,
     "metadata": {},
     "output_type": "execute_result"
    }
   ],
   "source": [
    "ll.size"
   ]
  },
  {
   "cell_type": "code",
   "execution_count": 445,
   "id": "eaa83f4a-3bd7-4fb9-ad2a-60c5472cb473",
   "metadata": {},
   "outputs": [],
   "source": [
    "ll.append(200)"
   ]
  },
  {
   "cell_type": "code",
   "execution_count": 446,
   "id": "eb8c8106-ea43-4bb8-9641-a7b3df4d7f8e",
   "metadata": {},
   "outputs": [
    {
     "data": {
      "text/plain": [
       "[200]"
      ]
     },
     "execution_count": 446,
     "metadata": {},
     "output_type": "execute_result"
    }
   ],
   "source": [
    "ll.traverse()"
   ]
  },
  {
   "cell_type": "code",
   "execution_count": 447,
   "id": "851e0d45-1a3c-4715-99f1-00f3059c52ca",
   "metadata": {},
   "outputs": [],
   "source": [
    "ll.append(400)"
   ]
  },
  {
   "cell_type": "code",
   "execution_count": 448,
   "id": "79a8a8c7-3797-4ca0-a9a3-38ba1a62056b",
   "metadata": {},
   "outputs": [
    {
     "name": "stdout",
     "output_type": "stream",
     "text": [
      "200 -> 400 ->  None\n"
     ]
    }
   ],
   "source": [
    "print(ll)"
   ]
  },
  {
   "cell_type": "code",
   "execution_count": 449,
   "id": "063264c8-2d90-4c3a-b6f9-9e054f847563",
   "metadata": {},
   "outputs": [
    {
     "data": {
      "text/plain": [
       "2"
      ]
     },
     "execution_count": 449,
     "metadata": {},
     "output_type": "execute_result"
    }
   ],
   "source": [
    "ll.size"
   ]
  },
  {
   "cell_type": "code",
   "execution_count": 450,
   "id": "b21f3af6-8e07-4075-9f34-a4a834bf8ae4",
   "metadata": {},
   "outputs": [],
   "source": [
    "ll.delete_at_position(pos = 1)"
   ]
  },
  {
   "cell_type": "code",
   "execution_count": 451,
   "id": "72cf44bf-bb27-40df-8a1c-05e3f6f20792",
   "metadata": {},
   "outputs": [
    {
     "data": {
      "text/plain": [
       "200 ->  None"
      ]
     },
     "execution_count": 451,
     "metadata": {},
     "output_type": "execute_result"
    }
   ],
   "source": [
    "ll"
   ]
  },
  {
   "cell_type": "code",
   "execution_count": 452,
   "id": "1b14d47c-910b-4c61-945f-518079507f3a",
   "metadata": {},
   "outputs": [],
   "source": [
    "ll.append(400)"
   ]
  },
  {
   "cell_type": "code",
   "execution_count": 453,
   "id": "1ccd996f-5bef-4f7c-8854-685e66ee2053",
   "metadata": {},
   "outputs": [
    {
     "data": {
      "text/plain": [
       "200 -> 400 ->  None"
      ]
     },
     "execution_count": 453,
     "metadata": {},
     "output_type": "execute_result"
    }
   ],
   "source": [
    "ll"
   ]
  },
  {
   "cell_type": "code",
   "execution_count": 454,
   "id": "12ab3a29-e51b-42ab-91da-ade5cc0ac7c3",
   "metadata": {},
   "outputs": [
    {
     "data": {
      "text/plain": [
       "200 -> 400 ->  None"
      ]
     },
     "execution_count": 454,
     "metadata": {},
     "output_type": "execute_result"
    }
   ],
   "source": [
    "ll"
   ]
  },
  {
   "cell_type": "code",
   "execution_count": 455,
   "id": "77a9faaf-c54a-4572-a781-b809663ebc06",
   "metadata": {},
   "outputs": [],
   "source": [
    "ll.append(500)\n",
    "ll.append(600)"
   ]
  },
  {
   "cell_type": "code",
   "execution_count": 456,
   "id": "10a7565a-e738-415f-a2bc-7186327314b8",
   "metadata": {},
   "outputs": [
    {
     "data": {
      "text/plain": [
       "200 -> 400 -> 500 -> 600 ->  None"
      ]
     },
     "execution_count": 456,
     "metadata": {},
     "output_type": "execute_result"
    }
   ],
   "source": [
    "ll"
   ]
  },
  {
   "cell_type": "code",
   "execution_count": 457,
   "id": "2352739c-2687-4028-a311-b202c7b88772",
   "metadata": {},
   "outputs": [
    {
     "data": {
      "text/plain": [
       "False"
      ]
     },
     "execution_count": 457,
     "metadata": {},
     "output_type": "execute_result"
    }
   ],
   "source": [
    "700 in ll"
   ]
  },
  {
   "cell_type": "code",
   "execution_count": 462,
   "id": "cf01bcc3-425c-4f35-be20-3e4258e31f1d",
   "metadata": {},
   "outputs": [],
   "source": [
    "ll.append(5000)"
   ]
  },
  {
   "cell_type": "code",
   "execution_count": 463,
   "id": "4e525041-26d1-43a4-8126-870a71ee4046",
   "metadata": {},
   "outputs": [
    {
     "data": {
      "text/plain": [
       "200 -> 400 -> 500 -> 600 -> 5000 ->  None"
      ]
     },
     "execution_count": 463,
     "metadata": {},
     "output_type": "execute_result"
    }
   ],
   "source": [
    "ll"
   ]
  },
  {
   "cell_type": "code",
   "execution_count": 465,
   "id": "030703b2-f20a-4bb1-9eb5-d3283f2f0cac",
   "metadata": {},
   "outputs": [
    {
     "name": "stdout",
     "output_type": "stream",
     "text": [
      "200\n",
      "400\n",
      "500\n",
      "600\n",
      "5000\n"
     ]
    }
   ],
   "source": [
    "y = []\n",
    "for x in ll:\n",
    "    y.append(x)\n",
    "    print(x)"
   ]
  },
  {
   "cell_type": "code",
   "execution_count": 466,
   "id": "5e71d08c-8712-4101-b10e-4994baca4165",
   "metadata": {},
   "outputs": [
    {
     "data": {
      "text/plain": [
       "[200, 400, 500, 600, 5000]"
      ]
     },
     "execution_count": 466,
     "metadata": {},
     "output_type": "execute_result"
    }
   ],
   "source": [
    "y"
   ]
  },
  {
   "cell_type": "code",
   "execution_count": null,
   "id": "7174408c-6142-4177-ac56-41f530eb813d",
   "metadata": {},
   "outputs": [],
   "source": []
  },
  {
   "cell_type": "code",
   "execution_count": null,
   "id": "1e698736-7857-4416-82d6-8358c18fb88d",
   "metadata": {},
   "outputs": [],
   "source": []
  },
  {
   "cell_type": "code",
   "execution_count": null,
   "id": "016fdfe1-9267-4d28-80fc-7a2df6fec9ef",
   "metadata": {},
   "outputs": [],
   "source": []
  },
  {
   "cell_type": "code",
   "execution_count": null,
   "id": "e0dcbd4d-d905-4498-9a5b-a62312dab1e3",
   "metadata": {},
   "outputs": [],
   "source": []
  },
  {
   "cell_type": "code",
   "execution_count": null,
   "id": "e61af955-0fe7-4b67-9c4d-3615e5b837ad",
   "metadata": {},
   "outputs": [],
   "source": []
  },
  {
   "cell_type": "code",
   "execution_count": null,
   "id": "63b6d54a-bfaf-491e-8734-361799c30201",
   "metadata": {},
   "outputs": [],
   "source": []
  },
  {
   "cell_type": "code",
   "execution_count": 417,
   "id": "10530477-8d07-4602-b7d1-992ff6b6a454",
   "metadata": {},
   "outputs": [],
   "source": [
    "ll = LinkedList()"
   ]
  },
  {
   "cell_type": "code",
   "execution_count": 418,
   "id": "9b92a80c-8119-474c-9f02-7a05b21369fc",
   "metadata": {},
   "outputs": [
    {
     "ename": "AttributeError",
     "evalue": "'LinkedList' object has no attribute 'get_size'",
     "output_type": "error",
     "traceback": [
      "\u001b[31m---------------------------------------------------------------------------\u001b[39m",
      "\u001b[31mAttributeError\u001b[39m                            Traceback (most recent call last)",
      "\u001b[36mCell\u001b[39m\u001b[36m \u001b[39m\u001b[32mIn[418]\u001b[39m\u001b[32m, line 1\u001b[39m\n\u001b[32m----> \u001b[39m\u001b[32m1\u001b[39m ll.get_size()\n",
      "\u001b[31mAttributeError\u001b[39m: 'LinkedList' object has no attribute 'get_size'"
     ]
    }
   ],
   "source": [
    "ll.get_size()"
   ]
  },
  {
   "cell_type": "code",
   "execution_count": 419,
   "id": "e531c1b6-2b47-4eac-a4b5-98275e07e463",
   "metadata": {},
   "outputs": [
    {
     "ename": "IndexError",
     "evalue": "The position is invalid!!",
     "output_type": "error",
     "traceback": [
      "\u001b[31m---------------------------------------------------------------------------\u001b[39m",
      "\u001b[31mIndexError\u001b[39m                                Traceback (most recent call last)",
      "\u001b[36mCell\u001b[39m\u001b[36m \u001b[39m\u001b[32mIn[419]\u001b[39m\u001b[32m, line 1\u001b[39m\n\u001b[32m----> \u001b[39m\u001b[32m1\u001b[39m ll.insert_at_position(pos = \u001b[32m2\u001b[39m, value = \u001b[32m150\u001b[39m)\n",
      "\u001b[36mCell\u001b[39m\u001b[36m \u001b[39m\u001b[32mIn[390]\u001b[39m\u001b[32m, line 87\u001b[39m, in \u001b[36mLinkedList.insert_at_position\u001b[39m\u001b[34m(self, pos, value)\u001b[39m\n\u001b[32m     81\u001b[39m \u001b[38;5;66;03m# size = self.get_size() # this is not efficient O(n). this can be done in a better way \u001b[39;00m\n\u001b[32m     82\u001b[39m \n\u001b[32m     83\u001b[39m \u001b[38;5;66;03m# possible edge cases\u001b[39;00m\n\u001b[32m     84\u001b[39m \n\u001b[32m     85\u001b[39m \u001b[38;5;66;03m# edge case 1 :  chak if the position is valid\u001b[39;00m\n\u001b[32m     86\u001b[39m \u001b[38;5;28;01mif\u001b[39;00m pos < \u001b[32m0\u001b[39m \u001b[38;5;129;01mor\u001b[39;00m pos > \u001b[38;5;28mself\u001b[39m.size: \u001b[38;5;66;03m# invalid positions\u001b[39;00m\n\u001b[32m---> \u001b[39m\u001b[32m87\u001b[39m     \u001b[38;5;28;01mraise\u001b[39;00m \u001b[38;5;167;01mIndexError\u001b[39;00m(\u001b[33m\"\u001b[39m\u001b[33mThe position is invalid!!\u001b[39m\u001b[33m\"\u001b[39m)\n\u001b[32m     89\u001b[39m \u001b[38;5;66;03m# edge case 2: if the list is empty --> not applicable\u001b[39;00m\n\u001b[32m     90\u001b[39m \n\u001b[32m     91\u001b[39m \u001b[38;5;66;03m# edge case 3 : pos  is 0 \u001b[39;00m\n\u001b[32m     92\u001b[39m \u001b[38;5;28;01mif\u001b[39;00m pos == \u001b[32m0\u001b[39m:  \u001b[38;5;66;03m# we need to run the insert_in_beginning function\u001b[39;00m\n",
      "\u001b[31mIndexError\u001b[39m: The position is invalid!!"
     ]
    }
   ],
   "source": [
    "ll.insert_at_position(pos = 2, value = 150)"
   ]
  },
  {
   "cell_type": "code",
   "execution_count": 349,
   "id": "fe026e48-e5e9-4894-9b07-85fd2018811a",
   "metadata": {},
   "outputs": [
    {
     "data": {
      "text/plain": [
       "'100 -> 41 -> 150 -> 21 -> 300'"
      ]
     },
     "execution_count": 349,
     "metadata": {},
     "output_type": "execute_result"
    }
   ],
   "source": [
    "ll.traverse()"
   ]
  },
  {
   "cell_type": "code",
   "execution_count": null,
   "id": "169f558b-1008-4fb9-a2bc-5ae1d12ed000",
   "metadata": {},
   "outputs": [],
   "source": []
  },
  {
   "cell_type": "code",
   "execution_count": null,
   "id": "99dbc084-bc51-4da8-b661-537c304b5da6",
   "metadata": {},
   "outputs": [],
   "source": []
  },
  {
   "cell_type": "code",
   "execution_count": 286,
   "id": "7f8018f9-3714-4190-9246-0d71ba04bc92",
   "metadata": {},
   "outputs": [],
   "source": [
    "linked_list = LinkedList(head = None)"
   ]
  },
  {
   "cell_type": "code",
   "execution_count": 287,
   "id": "df95bd05-dd2c-4e8f-9790-04440bfeb7ab",
   "metadata": {},
   "outputs": [],
   "source": [
    "linked_list.insert_in_beginning(100)"
   ]
  },
  {
   "cell_type": "code",
   "execution_count": 288,
   "id": "81b88e1d-327e-49ee-93c3-0dbc9f280c6a",
   "metadata": {},
   "outputs": [
    {
     "data": {
      "text/plain": [
       "'100'"
      ]
     },
     "execution_count": 288,
     "metadata": {},
     "output_type": "execute_result"
    }
   ],
   "source": [
    "linked_list.traverse()"
   ]
  },
  {
   "cell_type": "code",
   "execution_count": 289,
   "id": "88abca9c-6fbf-4bf6-bc40-a01568b608f6",
   "metadata": {},
   "outputs": [],
   "source": [
    "linked_list.insert_in_beginning(250)"
   ]
  },
  {
   "cell_type": "code",
   "execution_count": 290,
   "id": "2fbc542a-722c-4d9b-b883-8476decfc806",
   "metadata": {
    "scrolled": true
   },
   "outputs": [
    {
     "data": {
      "text/plain": [
       "'250 -> 100'"
      ]
     },
     "execution_count": 290,
     "metadata": {},
     "output_type": "execute_result"
    }
   ],
   "source": [
    "linked_list.traverse()"
   ]
  },
  {
   "cell_type": "code",
   "execution_count": null,
   "id": "e8e18c26-534e-4331-8cb6-e424810f2144",
   "metadata": {},
   "outputs": [],
   "source": []
  },
  {
   "cell_type": "code",
   "execution_count": null,
   "id": "3a99e99c-c8ea-415c-aa71-5118e1a573fd",
   "metadata": {},
   "outputs": [],
   "source": []
  },
  {
   "cell_type": "code",
   "execution_count": 242,
   "id": "f5844271-5f64-4b3c-93d4-34132bb40a97",
   "metadata": {},
   "outputs": [],
   "source": [
    "linked_list.append(10)"
   ]
  },
  {
   "cell_type": "code",
   "execution_count": 243,
   "id": "65df9b2e-e4b1-48df-b622-85ad333a366f",
   "metadata": {},
   "outputs": [
    {
     "data": {
      "text/plain": [
       "'10'"
      ]
     },
     "execution_count": 243,
     "metadata": {},
     "output_type": "execute_result"
    }
   ],
   "source": [
    "linked_list.traverse()"
   ]
  },
  {
   "cell_type": "code",
   "execution_count": 245,
   "id": "bb35ec8f-d357-4695-a761-73c93911547d",
   "metadata": {},
   "outputs": [],
   "source": [
    "linked_list = LinkedList(head = None)"
   ]
  },
  {
   "cell_type": "code",
   "execution_count": 246,
   "id": "2ef64d04-00fc-43f5-ad74-ee15b4c8f668",
   "metadata": {},
   "outputs": [
    {
     "ename": "Exception",
     "evalue": "Linkedlist is empty!!",
     "output_type": "error",
     "traceback": [
      "\u001b[31m---------------------------------------------------------------------------\u001b[39m",
      "\u001b[31mException\u001b[39m                                 Traceback (most recent call last)",
      "\u001b[36mCell\u001b[39m\u001b[36m \u001b[39m\u001b[32mIn[246]\u001b[39m\u001b[32m, line 1\u001b[39m\n\u001b[32m----> \u001b[39m\u001b[32m1\u001b[39m linked_list.delete_from_beginning()\n",
      "\u001b[36mCell\u001b[39m\u001b[36m \u001b[39m\u001b[32mIn[240]\u001b[39m\u001b[32m, line 60\u001b[39m, in \u001b[36mLinkedList.delete_from_beginning\u001b[39m\u001b[34m(self)\u001b[39m\n\u001b[32m     58\u001b[39m \u001b[38;5;66;03m## edge cases\u001b[39;00m\n\u001b[32m     59\u001b[39m \u001b[38;5;28;01mif\u001b[39;00m \u001b[38;5;28mself\u001b[39m.is_empty():\n\u001b[32m---> \u001b[39m\u001b[32m60\u001b[39m     \u001b[38;5;28;01mraise\u001b[39;00m \u001b[38;5;167;01mException\u001b[39;00m(\u001b[33m\"\u001b[39m\u001b[33mLinkedlist is empty!!\u001b[39m\u001b[33m\"\u001b[39m)\n\u001b[32m     62\u001b[39m \u001b[38;5;28mself\u001b[39m.head = \u001b[38;5;28mself\u001b[39m.head.next\n",
      "\u001b[31mException\u001b[39m: Linkedlist is empty!!"
     ]
    }
   ],
   "source": [
    "linked_list.delete_from_beginning()"
   ]
  },
  {
   "cell_type": "code",
   "execution_count": null,
   "id": "ec038f0d-ecd5-43c0-a40b-c30693615fb0",
   "metadata": {},
   "outputs": [],
   "source": []
  },
  {
   "cell_type": "code",
   "execution_count": null,
   "id": "41910139-6081-4777-810e-5f461a01d5f0",
   "metadata": {},
   "outputs": [],
   "source": []
  },
  {
   "cell_type": "code",
   "execution_count": null,
   "id": "ced224b9-70d7-42cc-b965-204d2b021489",
   "metadata": {},
   "outputs": [],
   "source": []
  },
  {
   "cell_type": "code",
   "execution_count": 209,
   "id": "df9cd5f3-a075-49c2-99b1-298907235f89",
   "metadata": {},
   "outputs": [],
   "source": [
    "node1 = Node(10)\n",
    "node2 = Node(20)\n",
    "node3 = Node(30)\n",
    "\n",
    "\n",
    "\n",
    "node1.next = node2\n",
    "node2.next = node3\n",
    "node3.next = None"
   ]
  },
  {
   "cell_type": "code",
   "execution_count": 210,
   "id": "5af7781c-019d-47e7-85e2-c26e6105c159",
   "metadata": {},
   "outputs": [
    {
     "data": {
      "text/plain": [
       "<__main__.Node at 0x1060ddf90>"
      ]
     },
     "execution_count": 210,
     "metadata": {},
     "output_type": "execute_result"
    }
   ],
   "source": [
    "node2"
   ]
  },
  {
   "cell_type": "code",
   "execution_count": 211,
   "id": "35a92ab5-33f7-4ee0-a1b3-b7cbb749248b",
   "metadata": {},
   "outputs": [
    {
     "data": {
      "text/plain": [
       "(20, <__main__.Node at 0x1060ddf90>)"
      ]
     },
     "execution_count": 211,
     "metadata": {},
     "output_type": "execute_result"
    }
   ],
   "source": [
    "node2.data, node1.next"
   ]
  },
  {
   "cell_type": "code",
   "execution_count": 212,
   "id": "4787473a-84a7-40f8-a070-f8573fbc9c78",
   "metadata": {},
   "outputs": [],
   "source": [
    "linked_list = LinkedList(head = node1)"
   ]
  },
  {
   "cell_type": "code",
   "execution_count": 213,
   "id": "da100a1d-3469-4979-b4b8-80d90a5edd9e",
   "metadata": {},
   "outputs": [],
   "source": [
    "linked_list.head.next = node2"
   ]
  },
  {
   "cell_type": "code",
   "execution_count": 214,
   "id": "dfe97050-e516-4a38-89ec-f21155235756",
   "metadata": {},
   "outputs": [],
   "source": [
    "linked_list.head.next.next = node3"
   ]
  },
  {
   "cell_type": "code",
   "execution_count": 215,
   "id": "5357b152-0a8f-43fb-82c0-78ca0a001a94",
   "metadata": {},
   "outputs": [
    {
     "data": {
      "text/plain": [
       "3"
      ]
     },
     "execution_count": 215,
     "metadata": {},
     "output_type": "execute_result"
    }
   ],
   "source": [
    "linked_list.get_size()"
   ]
  },
  {
   "cell_type": "code",
   "execution_count": 216,
   "id": "1fcc030d-2402-4798-a31b-8570b4bfdbe8",
   "metadata": {},
   "outputs": [
    {
     "data": {
      "text/plain": [
       "'10 -> 20 -> 30'"
      ]
     },
     "execution_count": 216,
     "metadata": {},
     "output_type": "execute_result"
    }
   ],
   "source": [
    "linked_list.traverse()"
   ]
  },
  {
   "cell_type": "code",
   "execution_count": 217,
   "id": "511eb829-1317-4286-94a8-6d138fca11dd",
   "metadata": {},
   "outputs": [],
   "source": [
    "linked_list.append(40)"
   ]
  },
  {
   "cell_type": "code",
   "execution_count": 218,
   "id": "d4bed2f1-3992-4c8d-af15-bd876b6a5ac6",
   "metadata": {},
   "outputs": [
    {
     "data": {
      "text/plain": [
       "'10 -> 20 -> 30 -> 40'"
      ]
     },
     "execution_count": 218,
     "metadata": {},
     "output_type": "execute_result"
    }
   ],
   "source": [
    "linked_list.traverse()"
   ]
  },
  {
   "cell_type": "code",
   "execution_count": 219,
   "id": "44ea9959-1542-43fa-8b75-5d97f2cc45c8",
   "metadata": {},
   "outputs": [],
   "source": [
    "linked_list.append(80)"
   ]
  },
  {
   "cell_type": "code",
   "execution_count": 220,
   "id": "bd2dc03b-9ed2-48fd-b186-4ce15aabcc61",
   "metadata": {},
   "outputs": [
    {
     "data": {
      "text/plain": [
       "'10 -> 20 -> 30 -> 40 -> 80'"
      ]
     },
     "execution_count": 220,
     "metadata": {},
     "output_type": "execute_result"
    }
   ],
   "source": [
    "linked_list.traverse()"
   ]
  },
  {
   "cell_type": "code",
   "execution_count": 221,
   "id": "49fd6604-be1f-4e51-8e54-9c0da3f21299",
   "metadata": {},
   "outputs": [
    {
     "data": {
      "text/plain": [
       "5"
      ]
     },
     "execution_count": 221,
     "metadata": {},
     "output_type": "execute_result"
    }
   ],
   "source": [
    "linked_list.get_size()"
   ]
  },
  {
   "cell_type": "code",
   "execution_count": 222,
   "id": "f67144f0-09c9-4b2f-ab7e-ed60d339bb9b",
   "metadata": {},
   "outputs": [],
   "source": [
    "linked_list.delete_from_beginning()"
   ]
  },
  {
   "cell_type": "code",
   "execution_count": 223,
   "id": "83ef37ab-0839-4883-8437-f75d33b3055e",
   "metadata": {},
   "outputs": [
    {
     "data": {
      "text/plain": [
       "'20 -> 30 -> 40 -> 80'"
      ]
     },
     "execution_count": 223,
     "metadata": {},
     "output_type": "execute_result"
    }
   ],
   "source": [
    "linked_list.traverse()"
   ]
  },
  {
   "cell_type": "code",
   "execution_count": 224,
   "id": "d5e7bf33-2204-41ab-b814-5a03842e2313",
   "metadata": {},
   "outputs": [
    {
     "data": {
      "text/plain": [
       "4"
      ]
     },
     "execution_count": 224,
     "metadata": {},
     "output_type": "execute_result"
    }
   ],
   "source": [
    "linked_list.get_size()"
   ]
  },
  {
   "cell_type": "code",
   "execution_count": null,
   "id": "9386174b-77c1-4e7e-a52a-ea823d7c2e45",
   "metadata": {},
   "outputs": [],
   "source": []
  },
  {
   "cell_type": "code",
   "execution_count": 225,
   "id": "d3bd8c63-77f2-4b7e-adaa-d49af14852fe",
   "metadata": {},
   "outputs": [],
   "source": [
    "linked_list.delete_from_end()"
   ]
  },
  {
   "cell_type": "code",
   "execution_count": 226,
   "id": "d08882ca-382c-4357-87db-758fa8e3c588",
   "metadata": {},
   "outputs": [
    {
     "data": {
      "text/plain": [
       "'20 -> 30 -> 40'"
      ]
     },
     "execution_count": 226,
     "metadata": {},
     "output_type": "execute_result"
    }
   ],
   "source": [
    "linked_list.traverse()"
   ]
  },
  {
   "cell_type": "code",
   "execution_count": null,
   "id": "e58cf723-4f7b-4a0c-8dc2-a6b38a234561",
   "metadata": {},
   "outputs": [],
   "source": []
  },
  {
   "cell_type": "code",
   "execution_count": 227,
   "id": "14098594-a7e2-4c74-af6d-37913433bf47",
   "metadata": {},
   "outputs": [
    {
     "data": {
      "text/plain": [
       "'20 -> 30 -> 40'"
      ]
     },
     "execution_count": 227,
     "metadata": {},
     "output_type": "execute_result"
    }
   ],
   "source": [
    "linked_list.traverse()"
   ]
  },
  {
   "cell_type": "code",
   "execution_count": 228,
   "id": "4496798f-e914-4165-97f7-c2aaea3f9fea",
   "metadata": {},
   "outputs": [],
   "source": [
    "linked_list.append(90)\n",
    "linked_list.append(100)"
   ]
  },
  {
   "cell_type": "code",
   "execution_count": 229,
   "id": "b129f2d1-7853-4eac-8dd2-22cfdd233605",
   "metadata": {},
   "outputs": [
    {
     "data": {
      "text/plain": [
       "'20 -> 30 -> 40 -> 90 -> 100'"
      ]
     },
     "execution_count": 229,
     "metadata": {},
     "output_type": "execute_result"
    }
   ],
   "source": [
    "linked_list.traverse()"
   ]
  },
  {
   "cell_type": "code",
   "execution_count": 230,
   "id": "54576a4d-1305-46d9-8317-38444f2d5962",
   "metadata": {},
   "outputs": [],
   "source": [
    "linked_list.delete_at_position(2)"
   ]
  },
  {
   "cell_type": "code",
   "execution_count": 231,
   "id": "00f4fb7f-de57-4946-805c-252b8fdeea02",
   "metadata": {},
   "outputs": [
    {
     "data": {
      "text/plain": [
       "'20 -> 30 -> 90 -> 100'"
      ]
     },
     "execution_count": 231,
     "metadata": {},
     "output_type": "execute_result"
    }
   ],
   "source": [
    "linked_list.traverse()"
   ]
  },
  {
   "cell_type": "code",
   "execution_count": 232,
   "id": "14e51c73-80bf-4be8-b1c7-460ef47b93c2",
   "metadata": {},
   "outputs": [],
   "source": [
    "linked_list.delete_at_position(3)"
   ]
  },
  {
   "cell_type": "code",
   "execution_count": 233,
   "id": "d7d004fd-2ba8-4bf2-a6c9-d8e8d11d8d82",
   "metadata": {},
   "outputs": [
    {
     "data": {
      "text/plain": [
       "'20 -> 30 -> 90'"
      ]
     },
     "execution_count": 233,
     "metadata": {},
     "output_type": "execute_result"
    }
   ],
   "source": [
    "linked_list.traverse()"
   ]
  },
  {
   "cell_type": "code",
   "execution_count": null,
   "id": "e59ef0bf-e265-4bd5-9eb5-b5b7db718350",
   "metadata": {},
   "outputs": [],
   "source": []
  },
  {
   "cell_type": "code",
   "execution_count": 331,
   "id": "e45caf39-9f6d-4a83-86bf-0dd13c9fd56b",
   "metadata": {},
   "outputs": [],
   "source": [
    "for  i in range(-1):\n",
    "    print(\"helo\")"
   ]
  },
  {
   "cell_type": "code",
   "execution_count": null,
   "id": "22bdc830-7344-45da-a03c-873ba223f26e",
   "metadata": {},
   "outputs": [],
   "source": []
  },
  {
   "cell_type": "code",
   "execution_count": null,
   "id": "48542c4e-f4d5-4be8-a5d1-069ee9e50556",
   "metadata": {},
   "outputs": [],
   "source": []
  },
  {
   "cell_type": "markdown",
   "id": "39bf19b0-5a85-478c-8120-dcfe5be9b4c8",
   "metadata": {},
   "source": [
    "### tail pointer in linked list"
   ]
  },
  {
   "cell_type": "code",
   "execution_count": null,
   "id": "f3acb217-ece4-4625-a0de-b67ff7038f26",
   "metadata": {},
   "outputs": [],
   "source": [
    "        In a singly linked list, the append (insert at end) operation normally takes O(n) time, since we must traverse the entire list to reach the last node.\n",
    "        \n",
    "        Suppose you need to design a linked list optimized for frequent appends (e.g., continuously adding new data to the end).\n",
    "        \n",
    "        How can you modify the linked list to make append run in O(1) time instead of O(n)?\n",
    "        \n",
    "        Hint: Maintaining an extra pointer/reference may help."
   ]
  },
  {
   "cell_type": "code",
   "execution_count": 476,
   "id": "235821f4-77fa-47eb-bdc3-9f96e8afa496",
   "metadata": {},
   "outputs": [],
   "source": [
    "## linked list implementation with tail pointer for optimising frequent appends\n",
    "\n",
    "\n",
    "class LinkedList:\n",
    "\n",
    "    def __init__(self):\n",
    "        self.head = None\n",
    "        self.tail = None\n",
    "        self.size = 0\n",
    "\n",
    "    def traverse(self):\n",
    "        '''\n",
    "        Traverses the linked list and returs a list of values \n",
    "        of all nodes\n",
    "\n",
    "        Time Complexity: Linear Time [O(n)]\n",
    "        \n",
    "        '''\n",
    "        ## edge cases\n",
    "        if not self.head:\n",
    "            return []\n",
    "\n",
    "        elements = []\n",
    "        curr = self.head\n",
    "        while curr:\n",
    "            elements.append(curr.data)\n",
    "            curr = curr.next\n",
    "\n",
    "        return elements\n",
    "\n",
    "    def __str__(self):\n",
    "        \n",
    "        # returns a string representation of the linked list\n",
    "        ll_str = [str(x) for x in self.traverse()]\n",
    "        return \" -> \".join(ll_str) + \" ->  None\"\n",
    "\n",
    "    \n",
    "    def append(self, value):\n",
    "\n",
    "        node = Node(value)\n",
    "\n",
    "        if self.head is None:\n",
    "            self.head = node\n",
    "            self.tail = node\n",
    "            \n",
    "        else:\n",
    "            self.tail.next = node # connect the new node after the current tail \n",
    "            self.tail = node # move tail forward\n",
    "        \n",
    "        self.size += 1\n",
    "\n",
    "    def delete(self):  # delete from  end\n",
    "\n",
    "        ## if there are no nodes\n",
    "        if self.head is None:\n",
    "            raise Exception(\"Linked list is empty!\")\n",
    "\n",
    "        ## if we have just one node\n",
    "        if self.head.next is None:\n",
    "            self.head = None\n",
    "            self.tail = None\n",
    "        \n",
    "        else:\n",
    "            curr  = self.head\n",
    "            while curr.next.next: # iterate to reach the second last element\n",
    "                curr = curr.next\n",
    "\n",
    "            curr.next = None  # here curr is the second last element\n",
    "            self.tail = curr\n",
    "\n",
    "        self.size -=1\n",
    "        \n",
    "        \n",
    "        "
   ]
  },
  {
   "cell_type": "code",
   "execution_count": 477,
   "id": "222d4c9e-c226-409b-8fa6-df220623add5",
   "metadata": {},
   "outputs": [],
   "source": []
  },
  {
   "cell_type": "code",
   "execution_count": 478,
   "id": "94fab9e1-5efb-4d78-bd1e-3bdffa6144eb",
   "metadata": {},
   "outputs": [
    {
     "data": {
      "text/plain": [
       "(None, None, 0)"
      ]
     },
     "execution_count": 478,
     "metadata": {},
     "output_type": "execute_result"
    }
   ],
   "source": [
    "ll.head, ll.tail, ll.size"
   ]
  },
  {
   "cell_type": "code",
   "execution_count": 479,
   "id": "d73b23d0-84f0-49b9-bc17-01541c67197a",
   "metadata": {},
   "outputs": [],
   "source": [
    "ll.append(100)"
   ]
  },
  {
   "cell_type": "code",
   "execution_count": 482,
   "id": "e2b7931a-20c2-4c96-bfce-0cad93432c02",
   "metadata": {},
   "outputs": [
    {
     "name": "stdout",
     "output_type": "stream",
     "text": [
      "100 -> 500 ->  None\n"
     ]
    }
   ],
   "source": [
    "print(ll)"
   ]
  },
  {
   "cell_type": "code",
   "execution_count": 484,
   "id": "eab8943c-bd5e-499d-b2dc-ce5d1eb0e342",
   "metadata": {},
   "outputs": [
    {
     "data": {
      "text/plain": [
       "(100, 500, 2)"
      ]
     },
     "execution_count": 484,
     "metadata": {},
     "output_type": "execute_result"
    }
   ],
   "source": [
    "ll.head.data, ll.tail.data, ll.size"
   ]
  },
  {
   "cell_type": "code",
   "execution_count": 485,
   "id": "7f0aa44f-35f2-4572-be92-c146a1804919",
   "metadata": {},
   "outputs": [],
   "source": [
    "ll.append(600)"
   ]
  },
  {
   "cell_type": "code",
   "execution_count": 487,
   "id": "b6e41e2f-6e8e-4905-aaa8-1a0d5e18fa8e",
   "metadata": {},
   "outputs": [
    {
     "name": "stdout",
     "output_type": "stream",
     "text": [
      "100 -> 500 -> 600 ->  None\n"
     ]
    }
   ],
   "source": [
    "print(ll)"
   ]
  },
  {
   "cell_type": "code",
   "execution_count": 488,
   "id": "92b0a86f-ab3f-4bca-94b7-c92a6924aafd",
   "metadata": {},
   "outputs": [
    {
     "data": {
      "text/plain": [
       "(100, 600, 3)"
      ]
     },
     "execution_count": 488,
     "metadata": {},
     "output_type": "execute_result"
    }
   ],
   "source": [
    "ll.head.data, ll.tail.data, ll.size"
   ]
  },
  {
   "cell_type": "code",
   "execution_count": 489,
   "id": "f87209bf-8a75-4940-8e6d-b3751495f7f8",
   "metadata": {},
   "outputs": [],
   "source": [
    "ll.delete()"
   ]
  },
  {
   "cell_type": "code",
   "execution_count": 490,
   "id": "c13a8554-91f6-4710-902d-deae1054f186",
   "metadata": {},
   "outputs": [
    {
     "name": "stdout",
     "output_type": "stream",
     "text": [
      "100 -> 500 ->  None\n"
     ]
    }
   ],
   "source": [
    "print(ll)"
   ]
  },
  {
   "cell_type": "code",
   "execution_count": 491,
   "id": "d3c49a83-6ab9-4199-97f1-1399d125edf7",
   "metadata": {},
   "outputs": [
    {
     "data": {
      "text/plain": [
       "(100, 500, 2)"
      ]
     },
     "execution_count": 491,
     "metadata": {},
     "output_type": "execute_result"
    }
   ],
   "source": [
    "ll.head.data, ll.tail.data, ll.size"
   ]
  },
  {
   "cell_type": "code",
   "execution_count": null,
   "id": "59db4189-f23c-41f7-b872-b855815360af",
   "metadata": {},
   "outputs": [],
   "source": []
  },
  {
   "cell_type": "code",
   "execution_count": null,
   "id": "2735a838-64ad-4ba6-bcf6-63866fefaa7c",
   "metadata": {},
   "outputs": [],
   "source": []
  },
  {
   "cell_type": "code",
   "execution_count": null,
   "id": "0705b2f7-6aa5-49f3-bac1-a0b3320ca198",
   "metadata": {},
   "outputs": [],
   "source": []
  },
  {
   "cell_type": "markdown",
   "id": "e9e0c58d-b725-4eee-b01a-9b03455a03ee",
   "metadata": {},
   "source": [
    "## Doubly Linked List"
   ]
  },
  {
   "cell_type": "markdown",
   "id": "da18b411-9b17-4fce-bfeb-d7e31f15739d",
   "metadata": {},
   "source": [
    "        Design a data structure that supports the following operations in the indicated time:\n",
    "        \n",
    "        insert(x) at front: O(1)\n",
    "        \n",
    "        remove(node) given a pointer to the node: O(1)\n",
    "        \n",
    "        get_last() and remove_last(): O(1)\n",
    "        \n",
    "        a) Which linked-list variant would you use? Explain briefly why.\n",
    "        b) Sketch the node layout and write pseudo-code for remove(node).\n",
    "        \n",
    "        Solution : use a doubly linked list with head and tail. For remove(node) update the node's prev.next and next.prev appropriately, and adjust head/tail if node is at ends."
   ]
  },
  {
   "cell_type": "code",
   "execution_count": 496,
   "id": "edea60e9-658c-40f9-9c1d-847e7d36396a",
   "metadata": {},
   "outputs": [],
   "source": [
    "class DNode:\n",
    "    \"\"\"Node for Doubly Linked List.\n",
    "\n",
    "    Attributes:\n",
    "        data: stored value\n",
    "        prev: reference to previous DNode or None\n",
    "        next: reference to next DNode or None\n",
    "    \"\"\"\n",
    "    def __init__(self, data):\n",
    "        self.data = data\n",
    "        self.prev = None\n",
    "        self.next = None\n",
    "\n",
    "\n",
    "class DoublyLinkedList:\n",
    "    \"\"\"Doubly linked list with head/tail and size tracking.\n",
    "\n",
    "    Common operations:\n",
    "      - append(value)            : O(1)\n",
    "      - prepend(value)           : O(1)\n",
    "      - insert_at_position(pos, value) : O(n)\n",
    "      - delete_from_beginning()  : O(1)\n",
    "      - delete_from_end()        : O(1)\n",
    "      - delete_at_position(pos)  : O(n)\n",
    "      - to_list(), from_list()   : O(n)\n",
    "      - __len__(), __iter__(), __str__()\n",
    "      - search(value)            : O(n)\n",
    "    \"\"\"\n",
    "    def __init__(self):\n",
    "        self.head = None\n",
    "        self.tail = None\n",
    "        self.size = 0\n",
    "\n",
    "\n",
    "    def is_empty(self):\n",
    "        return self.head is None\n",
    "\n",
    "    def __len__(self):\n",
    "        return self.size\n",
    "\n",
    "    def __iter__(self):\n",
    "        curr = self.head\n",
    "        while curr:\n",
    "            yield curr.data\n",
    "            curr = curr.next\n",
    "\n",
    "    def __str__(self):\n",
    "        return \" <-> \".join(str(x) for x in self)\n",
    "\n",
    "    def __repr__(self):\n",
    "        return \" <-> \".join(str(x) for x in self)\n",
    "\n",
    "    # ---- insertions ----\n",
    "    def append(self, value):\n",
    "        \"\"\"Append to end. O(1).\"\"\"\n",
    "        node = DNode(value)\n",
    "        if self.is_empty():\n",
    "            self.head = node\n",
    "            self.tail = node\n",
    "        else:\n",
    "            node.prev = self.tail\n",
    "            self.tail.next = node\n",
    "            self.tail = node\n",
    "        self.size += 1\n",
    "\n",
    "    def prepend(self, value):\n",
    "        \"\"\"Insert at beginning. O(1).\"\"\"\n",
    "        node = DNode(value)\n",
    "        if self.is_empty():\n",
    "            self.head = node\n",
    "            self.tail = node\n",
    "        else:\n",
    "            node.next = self.head\n",
    "            self.head.prev = node\n",
    "            self.head = node\n",
    "        self.size += 1\n",
    "\n",
    "    def insert_at_position(self, pos, value):\n",
    "        \"\"\"Insert at 0-based index pos. O(n) worst-case.\n",
    "        Allows pos == size (append).\"\"\"\n",
    "        if pos < 0 or pos > self.size:\n",
    "            raise IndexError(\"Invalid position\")\n",
    "        if pos == 0:\n",
    "            self.prepend(value)\n",
    "            return\n",
    "        if pos == self.size:\n",
    "            self.append(value)\n",
    "            return\n",
    "\n",
    "        # choose direction based on pos to optimize traversal\n",
    "        if pos <= self.size // 2:\n",
    "            curr = self.head\n",
    "            for _ in range(pos - 1):\n",
    "                curr = curr.next\n",
    "        else:\n",
    "            curr = self.tail\n",
    "            for _ in range(self.size - pos):\n",
    "                curr = curr.prev\n",
    "            curr = curr.prev  # step back to node before pos\n",
    "\n",
    "        node = DNode(value)\n",
    "        node.next = curr.next\n",
    "        node.prev = curr\n",
    "        curr.next.prev = node\n",
    "        curr.next = node\n",
    "        self.size += 1\n",
    "\n",
    "    # ---- deletions ----\n",
    "    def delete_from_beginning(self):\n",
    "        \"\"\"Remove head. O(1). Return removed value.\"\"\"\n",
    "        if self.is_empty():\n",
    "            raise IndexError(\"delete from empty list\")\n",
    "        val = self.head.data\n",
    "        if self.head.next is None:  # single node\n",
    "            self.head = None\n",
    "            self.tail = None\n",
    "        else:\n",
    "            self.head = self.head.next\n",
    "            self.head.prev = None\n",
    "        self.size -= 1\n",
    "        return val\n",
    "\n",
    "    def delete_from_end(self):\n",
    "        \"\"\"Remove tail. O(1). Return removed value.\"\"\"\n",
    "        if self.is_empty():\n",
    "            raise IndexError(\"delete from empty list\")\n",
    "        val = self.tail.data\n",
    "        if self.tail.prev is None:  # single node\n",
    "            self.head = None\n",
    "            self.tail = None\n",
    "        else:\n",
    "            self.tail = self.tail.prev\n",
    "            self.tail.next = None\n",
    "        self.size -= 1\n",
    "        return val\n",
    "\n",
    "    def delete_at_position(self, pos):\n",
    "        \"\"\"Delete and return value at position pos (0-based). O(n).\"\"\"\n",
    "        if pos < 0 or pos >= self.size:\n",
    "            raise IndexError(\"Invalid position\")\n",
    "        if pos == 0:\n",
    "            return self.delete_from_beginning()\n",
    "        if pos == self.size - 1:\n",
    "            return self.delete_from_end()\n",
    "\n",
    "        # choose direction\n",
    "        if pos <= self.size // 2:\n",
    "            curr = self.head\n",
    "            for _ in range(pos):\n",
    "                curr = curr.next\n",
    "        else:\n",
    "            curr = self.tail\n",
    "            for _ in range(self.size - 1 - pos):\n",
    "                curr = curr.prev\n",
    "\n",
    "        # curr is the node to delete\n",
    "        val = curr.data\n",
    "        curr.prev.next = curr.next\n",
    "        curr.next.prev = curr.prev\n",
    "        self.size -= 1\n",
    "        return val\n",
    "\n",
    "    # ---- utilities ----\n",
    "    def to_list(self):\n",
    "        \"\"\"Return Python list of values. O(n).\"\"\"\n",
    "        return [x for x in self]\n",
    "\n",
    "    @classmethod\n",
    "    def from_list(cls, values):\n",
    "        ll = cls()\n",
    "        for v in values:\n",
    "            ll.append(v)\n",
    "        return ll\n",
    "\n",
    "    def search(self, value):\n",
    "        \"\"\"Return first index of value or -1 if not found. O(n).\"\"\"\n",
    "        idx = 0\n",
    "        curr = self.head\n",
    "        while curr:\n",
    "            if curr.data == value:\n",
    "                return idx\n",
    "            curr = curr.next\n",
    "            idx += 1\n",
    "        return -1\n"
   ]
  },
  {
   "cell_type": "code",
   "execution_count": 497,
   "id": "40e3ab42-4a86-41fe-bc32-4633f4ca09f4",
   "metadata": {},
   "outputs": [],
   "source": [
    "dll = DoublyLinkedList()"
   ]
  },
  {
   "cell_type": "code",
   "execution_count": 498,
   "id": "d7cfd56b-4d5e-42e1-a482-edc0df348dbd",
   "metadata": {},
   "outputs": [],
   "source": [
    "dll.append(10)"
   ]
  },
  {
   "cell_type": "code",
   "execution_count": 499,
   "id": "b873bf42-f1d8-495d-ae92-8bd2b05e35e2",
   "metadata": {},
   "outputs": [
    {
     "data": {
      "text/plain": [
       "10"
      ]
     },
     "execution_count": 499,
     "metadata": {},
     "output_type": "execute_result"
    }
   ],
   "source": [
    "dll"
   ]
  },
  {
   "cell_type": "code",
   "execution_count": 500,
   "id": "1bd4488d-1083-4613-a2a3-5746bd2c4411",
   "metadata": {},
   "outputs": [],
   "source": [
    "dll.append(20)\n",
    "dll.append(30)\n",
    "dll.append(40)"
   ]
  },
  {
   "cell_type": "code",
   "execution_count": 501,
   "id": "4db791e0-1131-4776-ac21-4726c5d905f9",
   "metadata": {},
   "outputs": [
    {
     "data": {
      "text/plain": [
       "10 <-> 20 <-> 30 <-> 40"
      ]
     },
     "execution_count": 501,
     "metadata": {},
     "output_type": "execute_result"
    }
   ],
   "source": [
    "dll"
   ]
  },
  {
   "cell_type": "code",
   "execution_count": 502,
   "id": "26b399c1-9d5f-49ea-9c62-23220355620d",
   "metadata": {},
   "outputs": [],
   "source": [
    "dll.insert_at_position(2, 800)"
   ]
  },
  {
   "cell_type": "code",
   "execution_count": 503,
   "id": "8ed59270-5567-4174-b20b-2bc29b84a15a",
   "metadata": {},
   "outputs": [
    {
     "data": {
      "text/plain": [
       "10 <-> 20 <-> 800 <-> 30 <-> 40"
      ]
     },
     "execution_count": 503,
     "metadata": {},
     "output_type": "execute_result"
    }
   ],
   "source": [
    "dll"
   ]
  },
  {
   "cell_type": "code",
   "execution_count": 504,
   "id": "6fb2d48f-320a-4b3d-a326-4c17e47cc514",
   "metadata": {},
   "outputs": [
    {
     "data": {
      "text/plain": [
       "10"
      ]
     },
     "execution_count": 504,
     "metadata": {},
     "output_type": "execute_result"
    }
   ],
   "source": [
    "dll.delete_from_beginning()"
   ]
  },
  {
   "cell_type": "code",
   "execution_count": 505,
   "id": "b8cd39e9-7e48-46a8-90b4-6ebac372c295",
   "metadata": {},
   "outputs": [
    {
     "data": {
      "text/plain": [
       "20 <-> 800 <-> 30 <-> 40"
      ]
     },
     "execution_count": 505,
     "metadata": {},
     "output_type": "execute_result"
    }
   ],
   "source": [
    "dll"
   ]
  },
  {
   "cell_type": "code",
   "execution_count": null,
   "id": "0815e998-2f26-42ba-a4e9-df903d9276a7",
   "metadata": {},
   "outputs": [],
   "source": []
  },
  {
   "cell_type": "code",
   "execution_count": null,
   "id": "82af2408-acb0-489e-9e51-7b328369af5b",
   "metadata": {},
   "outputs": [],
   "source": []
  },
  {
   "cell_type": "code",
   "execution_count": null,
   "id": "a0dc9fcc-c12d-4b47-974c-26f97ab16f98",
   "metadata": {},
   "outputs": [],
   "source": []
  },
  {
   "cell_type": "code",
   "execution_count": null,
   "id": "e195d314-e773-448a-ba61-b53f483aa01e",
   "metadata": {},
   "outputs": [],
   "source": []
  }
 ],
 "metadata": {
  "kernelspec": {
   "display_name": "Python 3 (ipykernel)",
   "language": "python",
   "name": "python3"
  },
  "language_info": {
   "codemirror_mode": {
    "name": "ipython",
    "version": 3
   },
   "file_extension": ".py",
   "mimetype": "text/x-python",
   "name": "python",
   "nbconvert_exporter": "python",
   "pygments_lexer": "ipython3",
   "version": "3.13.5"
  }
 },
 "nbformat": 4,
 "nbformat_minor": 5
}
