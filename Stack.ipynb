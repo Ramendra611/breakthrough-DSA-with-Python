{
 "cells": [
  {
   "cell_type": "code",
   "execution_count": 57,
   "id": "6f1ff6d7-1fd6-446c-bb31-e82e9b9e2915",
   "metadata": {},
   "outputs": [],
   "source": [
    "class ListStack:\n",
    "    '''\n",
    "    Stack  implementation using a List\n",
    "    push\n",
    "    pop\n",
    "    peek\n",
    "    is_empty\n",
    "    size\n",
    "    '''\n",
    "\n",
    "\n",
    "    def __init__(self):\n",
    "        self._list = [] #protected variable\n",
    "\n",
    "    def push(self, value):\n",
    "        '''\n",
    "        Push an element in the stack\n",
    "        TC : O(1)\n",
    "        '''\n",
    "        self._list.append(value)\n",
    "\n",
    "    def pop(self):\n",
    "        '''\n",
    "        pop an element from the stack\n",
    "        TC: O(1)\n",
    "        '''\n",
    "        ## check if the stack is empty\n",
    "        if self.is_empty():\n",
    "            raise Exception(\"The stack is empty!\")\n",
    "        return self._list.pop()\n",
    "\n",
    "    def peek(self):\n",
    "        '''\n",
    "        Return the top element  without removing it!\n",
    "        TC: O(1)\n",
    "        '''\n",
    "        if self.is_empty():\n",
    "            raise Exception(\"The stack is empty!\")\n",
    "        return self._list[-1]\n",
    "\n",
    "    def is_empty(self):\n",
    "        '''\n",
    "        To check if the stack is empty.\n",
    "        TC: O(1)\n",
    "        '''\n",
    "        return len(self._list) == 0\n",
    "\n",
    "    def size(self):\n",
    "        '''\n",
    "        To get the size of the stack\n",
    "        '''\n",
    "        return len(self._list)\n",
    "\n",
    "    def to_list(self):  \n",
    "        return list(self._list)  # it will return a copy of internal list\n",
    "\n",
    "    def __str__(self):\n",
    "        return (\"\\n\"+\"---\"+\"\\n\").join([str(x) for x in reversed(self._list)])\n",
    "\n",
    "    def __repr__(self):\n",
    "        return (\"\\n\"+\"---\"+\"\\n\").join([str(x) for x in reversed(self._list)])\n",
    "        \n",
    "        "
   ]
  },
  {
   "cell_type": "code",
   "execution_count": null,
   "id": "e1bce8ca-c710-4dc7-9e43-3b64105ba3ec",
   "metadata": {},
   "outputs": [],
   "source": [
    "stack  = deque()\n",
    "stack.append(10)\n",
    "stack.pop()"
   ]
  },
  {
   "cell_type": "code",
   "execution_count": null,
   "id": "c9de12d4-b0c4-432a-804e-05df57fd77e3",
   "metadata": {},
   "outputs": [],
   "source": []
  },
  {
   "cell_type": "code",
   "execution_count": null,
   "id": "a8a88c44-4462-4c96-b42e-8a83e9872a0f",
   "metadata": {},
   "outputs": [],
   "source": []
  },
  {
   "cell_type": "code",
   "execution_count": 143,
   "id": "a9657f6c-7bd9-49f9-b157-83e116a9ed72",
   "metadata": {},
   "outputs": [],
   "source": [
    "from collections import deque\n",
    "\n",
    "class DequeStack:\n",
    "    \"\"\"\n",
    "    Stack implemented using collections.deque (wrapped).\n",
    "    - All operations are O(1).\n",
    "    - Cleaner abstraction: users interact only via stack API.\n",
    "    \"\"\"\n",
    "\n",
    "    def __init__(self):\n",
    "        self._items = deque()  # protected deque instance\n",
    "\n",
    "    def push(self, value):\n",
    "        \"\"\"Push an element onto the stack. O(1).\"\"\"\n",
    "        self._items.append(value)\n",
    "\n",
    "    def pop(self):\n",
    "        \"\"\"Pop the top element. Raises IndexError if empty. O(1).\"\"\"\n",
    "        if self.is_empty():\n",
    "            raise IndexError(\"pop from empty stack\")\n",
    "        return self._items.pop()\n",
    "\n",
    "    def peek(self):\n",
    "        \"\"\"Return the top element without removing it. O(1).\"\"\"\n",
    "        if self.is_empty():\n",
    "            raise IndexError(\"peek from empty stack\")\n",
    "        return self._items[-1]\n",
    "\n",
    "    def is_empty(self):\n",
    "        \"\"\"Check if the stack is empty. O(1).\"\"\"\n",
    "        return len(self._items) == 0\n",
    "\n",
    "    def size(self):\n",
    "        \"\"\"Return number of elements in the stack. O(1).\"\"\"\n",
    "        return len(self._items)\n",
    "\n",
    "    def to_list(self):\n",
    "        \"\"\"Return a copy of the stack as a list (bottom → top). O(n).\"\"\"\n",
    "        return list(self._items)\n",
    "\n",
    "    def __str__(self):\n",
    "        return (\"\\n\"+\"---\"+\"\\n\").join([str(x) for x in reversed(self._items)])\n",
    "\n",
    "    def __repr__(self):\n",
    "        return (\"\\n\"+\"---\"+\"\\n\").join([str(x) for x in reversed(self._items)])"
   ]
  },
  {
   "cell_type": "code",
   "execution_count": 144,
   "id": "0447f515-9f8a-4277-8010-da41a7b8f0be",
   "metadata": {},
   "outputs": [],
   "source": [
    "\n",
    "class Node:\n",
    "    def __init__(self, data):\n",
    "        self.data = data\n",
    "        self.next = None\n",
    "\n",
    "class LinkedListStack:\n",
    "\n",
    "\n",
    "    '''\n",
    "    Stack  implementation using a LinkedList\n",
    "    push\n",
    "    pop\n",
    "    peek\n",
    "    is_empty\n",
    "    size\n",
    "    '''\n",
    "\n",
    "\n",
    "    def __init__(self):\n",
    "        self._head = None\n",
    "        self._size = 0\n",
    "\n",
    "    def push(self, value):\n",
    "        '''\n",
    "        Push an element in the stack\n",
    "        Which add an element before head\n",
    "        TC : O(1)\n",
    "        '''\n",
    "        node = Node(value)\n",
    "        node.next = self._head\n",
    "        self._head = node\n",
    "        self._size += 1\n",
    "        \n",
    "\n",
    "    def pop(self):\n",
    "        '''\n",
    "        pop an element from the stack\n",
    "        TC: O(1)\n",
    "        '''\n",
    "        # if the stack is empty\n",
    "        if self.is_empty():\n",
    "            raise IndexError(\"The stack is empty!\")\n",
    "        \n",
    "        val = self._head.data\n",
    "        self._head = self._head.next\n",
    "        self._size -= 1  # reduct the size by 1\n",
    "        return val # return  the value at the top of the stack (head of linked list)\n",
    "        \n",
    "\n",
    "    def peek(self):\n",
    "        '''\n",
    "        Return the top element  without removing it!\n",
    "        TC: O(1)\n",
    "        '''\n",
    "        if self.is_empty():\n",
    "           raise IndexError(\"The stack is empty!\")\n",
    "        return self._head.data\n",
    "\n",
    "    def is_empty(self):\n",
    "        '''\n",
    "        To check if the stack is empty.\n",
    "        TC: O(1)\n",
    "        '''\n",
    "        return self._head is None\n",
    "\n",
    "    def to_list(self):  \n",
    "        '''\n",
    "        TC : O(n)\n",
    "        '''\n",
    "        curr = self._head\n",
    "        elements = []\n",
    "        while curr:\n",
    "            elements.append(curr.data)\n",
    "            curr = curr.next\n",
    "        \n",
    "        return list(reversed(elements))  # it will return a copy of internal list\n",
    "\n",
    "    def size(self):\n",
    "        return self._size\n",
    "\n",
    "    def __str__(self):\n",
    "        return (\"\\n\"+\"---\"+\"\\n\").join([str(x) for x in reversed(self.to_list())])\n",
    "\n",
    "    def __repr__(self):\n",
    "        return (\"\\n\"+\"---\"+\"\\n\").join([str(x) for x in reversed(self.to_list())])\n",
    "    "
   ]
  },
  {
   "cell_type": "code",
   "execution_count": null,
   "id": "1f34da8d-72f5-4757-83dd-88ededcec236",
   "metadata": {},
   "outputs": [],
   "source": []
  },
  {
   "cell_type": "code",
   "execution_count": null,
   "id": "c7f0962f-945a-43e2-90ec-906ea18d2300",
   "metadata": {},
   "outputs": [],
   "source": []
  },
  {
   "cell_type": "code",
   "execution_count": null,
   "id": "62815f38-a7bd-4d39-99f9-8280d5f61be0",
   "metadata": {},
   "outputs": [],
   "source": []
  },
  {
   "cell_type": "code",
   "execution_count": null,
   "id": "4f5ba273-ee83-4422-b126-19790a15144e",
   "metadata": {},
   "outputs": [],
   "source": []
  },
  {
   "cell_type": "code",
   "execution_count": null,
   "id": "ce1c0818-5f71-4cee-89db-498bc76c6fa3",
   "metadata": {},
   "outputs": [],
   "source": []
  },
  {
   "cell_type": "code",
   "execution_count": 145,
   "id": "c96db80b-962a-4722-8702-cdeff0e3369d",
   "metadata": {},
   "outputs": [],
   "source": [
    "# stack = ListStack()\n",
    "# stack = LinkedListStack()\n",
    "stack = DequeStack()"
   ]
  },
  {
   "cell_type": "code",
   "execution_count": 146,
   "id": "f6bd9e6b-db71-4b65-b932-9cb2033b091b",
   "metadata": {},
   "outputs": [],
   "source": [
    "stack.push(10)"
   ]
  },
  {
   "cell_type": "code",
   "execution_count": 150,
   "id": "bbf39cd0-6f09-49dc-b7a6-af85874372be",
   "metadata": {},
   "outputs": [],
   "source": [
    "stack.push(20)\n",
    "stack.push(20)\n",
    "stack.push(12)\n",
    "stack.push(8)\n",
    "stack.push(15)"
   ]
  },
  {
   "cell_type": "code",
   "execution_count": 151,
   "id": "945c37da-6412-47fa-baef-512b619429c7",
   "metadata": {},
   "outputs": [
    {
     "data": {
      "text/plain": [
       "[10, 20, 20, 12, 8, 15, 20, 20, 12, 8, 15]"
      ]
     },
     "execution_count": 151,
     "metadata": {},
     "output_type": "execute_result"
    }
   ],
   "source": [
    "stack.to_list()"
   ]
  },
  {
   "cell_type": "code",
   "execution_count": 152,
   "id": "674795a0-6610-4ad3-86d4-3f42e18fd862",
   "metadata": {},
   "outputs": [
    {
     "data": {
      "text/plain": [
       "15"
      ]
     },
     "execution_count": 152,
     "metadata": {},
     "output_type": "execute_result"
    }
   ],
   "source": [
    "stack.peek()"
   ]
  },
  {
   "cell_type": "code",
   "execution_count": 153,
   "id": "3a6f6b89-8b72-4638-ae0b-80b644f0b194",
   "metadata": {},
   "outputs": [
    {
     "name": "stdout",
     "output_type": "stream",
     "text": [
      "15\n",
      "---\n",
      "8\n",
      "---\n",
      "12\n",
      "---\n",
      "20\n",
      "---\n",
      "20\n",
      "---\n",
      "15\n",
      "---\n",
      "8\n",
      "---\n",
      "12\n",
      "---\n",
      "20\n",
      "---\n",
      "20\n",
      "---\n",
      "10\n"
     ]
    }
   ],
   "source": [
    "print(stack)"
   ]
  },
  {
   "cell_type": "code",
   "execution_count": 154,
   "id": "717bc4d5-7783-4f81-928a-485ef5122cc9",
   "metadata": {},
   "outputs": [
    {
     "data": {
      "text/plain": [
       "15"
      ]
     },
     "execution_count": 154,
     "metadata": {},
     "output_type": "execute_result"
    }
   ],
   "source": [
    "stack.pop()"
   ]
  },
  {
   "cell_type": "code",
   "execution_count": 155,
   "id": "58f03583-3fcf-496f-ab4b-13fa153a80b9",
   "metadata": {},
   "outputs": [
    {
     "data": {
      "text/plain": [
       "8\n",
       "---\n",
       "12\n",
       "---\n",
       "20\n",
       "---\n",
       "20\n",
       "---\n",
       "15\n",
       "---\n",
       "8\n",
       "---\n",
       "12\n",
       "---\n",
       "20\n",
       "---\n",
       "20\n",
       "---\n",
       "10"
      ]
     },
     "execution_count": 155,
     "metadata": {},
     "output_type": "execute_result"
    }
   ],
   "source": [
    "stack"
   ]
  },
  {
   "cell_type": "code",
   "execution_count": 156,
   "id": "1e3ed9b6-15b8-4a11-a669-35acf360000d",
   "metadata": {},
   "outputs": [
    {
     "data": {
      "text/plain": [
       "8"
      ]
     },
     "execution_count": 156,
     "metadata": {},
     "output_type": "execute_result"
    }
   ],
   "source": [
    "stack.pop()"
   ]
  },
  {
   "cell_type": "code",
   "execution_count": 157,
   "id": "5cc46c71-1ae5-43db-8f65-9d9218ca7c10",
   "metadata": {},
   "outputs": [
    {
     "data": {
      "text/plain": [
       "12\n",
       "---\n",
       "20\n",
       "---\n",
       "20\n",
       "---\n",
       "15\n",
       "---\n",
       "8\n",
       "---\n",
       "12\n",
       "---\n",
       "20\n",
       "---\n",
       "20\n",
       "---\n",
       "10"
      ]
     },
     "execution_count": 157,
     "metadata": {},
     "output_type": "execute_result"
    }
   ],
   "source": [
    "stack"
   ]
  },
  {
   "cell_type": "code",
   "execution_count": 158,
   "id": "5d3851f4-20b7-4bfd-adbe-85e2b59b0450",
   "metadata": {},
   "outputs": [
    {
     "data": {
      "text/plain": [
       "9"
      ]
     },
     "execution_count": 158,
     "metadata": {},
     "output_type": "execute_result"
    }
   ],
   "source": [
    "stack.size()"
   ]
  },
  {
   "cell_type": "code",
   "execution_count": 159,
   "id": "859ae6b4-fb16-495e-8db9-4310b521b00d",
   "metadata": {},
   "outputs": [
    {
     "data": {
      "text/plain": [
       "12"
      ]
     },
     "execution_count": 159,
     "metadata": {},
     "output_type": "execute_result"
    }
   ],
   "source": [
    "stack.pop()"
   ]
  },
  {
   "cell_type": "code",
   "execution_count": 160,
   "id": "2382b3e3-7213-47dd-82fa-bc5a9ef01e02",
   "metadata": {},
   "outputs": [
    {
     "data": {
      "text/plain": [
       "20\n",
       "---\n",
       "20\n",
       "---\n",
       "15\n",
       "---\n",
       "8\n",
       "---\n",
       "12\n",
       "---\n",
       "20\n",
       "---\n",
       "20\n",
       "---\n",
       "10"
      ]
     },
     "execution_count": 160,
     "metadata": {},
     "output_type": "execute_result"
    }
   ],
   "source": [
    "stack"
   ]
  },
  {
   "cell_type": "code",
   "execution_count": 161,
   "id": "5c601ac3-766b-42db-8a0a-c43c893c6736",
   "metadata": {},
   "outputs": [
    {
     "data": {
      "text/plain": [
       "20\n",
       "---\n",
       "20\n",
       "---\n",
       "15\n",
       "---\n",
       "8\n",
       "---\n",
       "12\n",
       "---\n",
       "20\n",
       "---\n",
       "20\n",
       "---\n",
       "10"
      ]
     },
     "execution_count": 161,
     "metadata": {},
     "output_type": "execute_result"
    }
   ],
   "source": [
    "stack"
   ]
  },
  {
   "cell_type": "code",
   "execution_count": 162,
   "id": "746d7368-1c43-4e46-af32-b906c90b7503",
   "metadata": {},
   "outputs": [
    {
     "data": {
      "text/plain": [
       "20\n",
       "---\n",
       "20\n",
       "---\n",
       "15\n",
       "---\n",
       "8\n",
       "---\n",
       "12\n",
       "---\n",
       "20\n",
       "---\n",
       "20\n",
       "---\n",
       "10"
      ]
     },
     "execution_count": 162,
     "metadata": {},
     "output_type": "execute_result"
    }
   ],
   "source": [
    "stack"
   ]
  },
  {
   "cell_type": "code",
   "execution_count": 173,
   "id": "00c5f71f-3f6c-4351-a5a6-4ab13173224e",
   "metadata": {},
   "outputs": [
    {
     "data": {
      "text/plain": []
     },
     "execution_count": 173,
     "metadata": {},
     "output_type": "execute_result"
    }
   ],
   "source": [
    "stack"
   ]
  },
  {
   "cell_type": "code",
   "execution_count": 174,
   "id": "b12e4c64-2255-4e69-a710-90f497949b0d",
   "metadata": {},
   "outputs": [
    {
     "ename": "IndexError",
     "evalue": "pop from empty stack",
     "output_type": "error",
     "traceback": [
      "\u001b[31m---------------------------------------------------------------------------\u001b[39m",
      "\u001b[31mIndexError\u001b[39m                                Traceback (most recent call last)",
      "\u001b[36mCell\u001b[39m\u001b[36m \u001b[39m\u001b[32mIn[174]\u001b[39m\u001b[32m, line 1\u001b[39m\n\u001b[32m----> \u001b[39m\u001b[32m1\u001b[39m stack.pop()\n",
      "\u001b[36mCell\u001b[39m\u001b[36m \u001b[39m\u001b[32mIn[143]\u001b[39m\u001b[32m, line 20\u001b[39m, in \u001b[36mDequeStack.pop\u001b[39m\u001b[34m(self)\u001b[39m\n\u001b[32m     18\u001b[39m \u001b[38;5;250m\u001b[39m\u001b[33;03m\"\"\"Pop the top element. Raises IndexError if empty. O(1).\"\"\"\u001b[39;00m\n\u001b[32m     19\u001b[39m \u001b[38;5;28;01mif\u001b[39;00m \u001b[38;5;28mself\u001b[39m.is_empty():\n\u001b[32m---> \u001b[39m\u001b[32m20\u001b[39m     \u001b[38;5;28;01mraise\u001b[39;00m \u001b[38;5;167;01mIndexError\u001b[39;00m(\u001b[33m\"\u001b[39m\u001b[33mpop from empty stack\u001b[39m\u001b[33m\"\u001b[39m)\n\u001b[32m     21\u001b[39m \u001b[38;5;28;01mreturn\u001b[39;00m \u001b[38;5;28mself\u001b[39m._items.pop()\n",
      "\u001b[31mIndexError\u001b[39m: pop from empty stack"
     ]
    }
   ],
   "source": [
    "stack.pop()"
   ]
  },
  {
   "cell_type": "code",
   "execution_count": null,
   "id": "54eddf6e-3149-4d9b-b965-96555c59f82c",
   "metadata": {},
   "outputs": [],
   "source": []
  },
  {
   "cell_type": "code",
   "execution_count": null,
   "id": "240a69fa-1922-4b34-8ae2-4412e1cd3788",
   "metadata": {},
   "outputs": [],
   "source": []
  },
  {
   "cell_type": "code",
   "execution_count": null,
   "id": "c647133a-5cf6-48ee-8e41-d93541661795",
   "metadata": {},
   "outputs": [],
   "source": []
  },
  {
   "cell_type": "code",
   "execution_count": null,
   "id": "60e93424-29bb-47b3-b9a4-14e57beef332",
   "metadata": {},
   "outputs": [],
   "source": []
  },
  {
   "cell_type": "code",
   "execution_count": null,
   "id": "e9af68f5-db43-4bbf-bec3-b82cc29c7170",
   "metadata": {},
   "outputs": [],
   "source": []
  },
  {
   "cell_type": "code",
   "execution_count": null,
   "id": "066ad54e-6fdc-4fbc-9dcb-e58ad6e301fc",
   "metadata": {},
   "outputs": [],
   "source": []
  },
  {
   "cell_type": "code",
   "execution_count": null,
   "id": "b4c11d1e-69c3-4992-9088-9c624147ed6c",
   "metadata": {},
   "outputs": [],
   "source": []
  },
  {
   "cell_type": "markdown",
   "id": "ca28263d-a2a0-41b8-bc16-44c3c4f22b15",
   "metadata": {},
   "source": [
    "# **Practice Problems**\n",
    "\n",
    "    - Understand the question\n",
    "    - clarifying questions or assumptions\n",
    "    - approach ( first brute force and then possible optimisations )\n",
    "    - dry run with examples\n",
    "    - Edge cases\n",
    "    - Time and space complexity\n",
    "    - code + dry run with code"
   ]
  },
  {
   "cell_type": "markdown",
   "id": "e411e343-25eb-41cb-9f37-9d4d57d90663",
   "metadata": {},
   "source": [
    "## **1. Reverse a String Using a Stack**\n",
    "\n",
    "**Problem:**  \n",
    "Given a string, reverse it using a stack."
   ]
  },
  {
   "cell_type": "code",
   "execution_count": 183,
   "id": "0922b537-81f7-4f4d-9231-4c372d8fc6a0",
   "metadata": {},
   "outputs": [
    {
     "data": {
      "text/plain": [
       "''"
      ]
     },
     "execution_count": 183,
     "metadata": {},
     "output_type": "execute_result"
    }
   ],
   "source": [
    "def reverse_string(string):\n",
    "\n",
    "    ''' \n",
    "    using stack:\n",
    "    TC: O(n)\n",
    "    SC: O(n)\n",
    "    '''\n",
    "    stack = []\n",
    "    for char in string:\n",
    "        stack.append(char)\n",
    "\n",
    "    result = []\n",
    "    while stack:\n",
    "        result.append(stack.pop())\n",
    "\n",
    "    return \"\".join(result)\n",
    "\n",
    "\n",
    "\n",
    "ex1 = \"codeverra\"\n",
    "ex2 = \"\"\n",
    "reverse_string(ex2)\n",
    "        \n",
    "   "
   ]
  },
  {
   "cell_type": "code",
   "execution_count": 185,
   "id": "1bc8b411-d75c-422e-a97e-fe1856ff68fe",
   "metadata": {},
   "outputs": [
    {
     "data": {
      "text/plain": [
       "'arrevedoc'"
      ]
     },
     "execution_count": 185,
     "metadata": {},
     "output_type": "execute_result"
    }
   ],
   "source": [
    "ex1[::-1]"
   ]
  },
  {
   "cell_type": "code",
   "execution_count": null,
   "id": "226fc21b-3042-4dff-b97d-01f3b93d92ce",
   "metadata": {},
   "outputs": [],
   "source": [
    "def reverseString(self, s: List[str]) -> None:\n",
    "    \"\"\"\n",
    "    Do not return anything, modify s in-place instead.\n",
    "    \"\"\"\n",
    "\n",
    "    left , right = 0, len(s)-1\n",
    "\n",
    "    while left < right:\n",
    "        s[left], s[right] =  s[right], s[left]\n",
    "        left  = left + 1\n",
    "        right = right - 1\n",
    "    \n",
    "    return s"
   ]
  },
  {
   "cell_type": "code",
   "execution_count": null,
   "id": "a3c271bb-db59-46d3-a8a7-4ab1ccf71ff0",
   "metadata": {},
   "outputs": [],
   "source": []
  },
  {
   "cell_type": "code",
   "execution_count": null,
   "id": "45cf6c31-6eb9-4203-aa8d-a4c8d83fd385",
   "metadata": {},
   "outputs": [],
   "source": []
  },
  {
   "cell_type": "markdown",
   "id": "2604ec76-0b0a-4f16-ab7e-c58700132a09",
   "metadata": {},
   "source": [
    "## **2. Check for Balanced Parentheses**\n",
    "\n",
    "**Problem:**  \n",
    "Given a string of brackets `()[]{}`, check if it is valid.  \n",
    "Valid if:\n",
    "\n",
    "- Open brackets are closed by the same type.  \n",
    "- Open brackets close in the correct order.\n",
    "\n",
    "```python    \n",
    "s1 = \"()\" # True \n",
    "s2 = \"()[]{}\" # True \n",
    "s3 = \"(]\" # False \n",
    "s4 = \"([)]\" # False \n",
    "s5 = \"{[]}\" # True\n",
    "```"
   ]
  },
  {
   "cell_type": "code",
   "execution_count": 188,
   "id": "9c1ef3a2-d81a-44bd-a65b-c4f553be378d",
   "metadata": {},
   "outputs": [
    {
     "data": {
      "text/plain": [
       "True"
      ]
     },
     "execution_count": 188,
     "metadata": {},
     "output_type": "execute_result"
    }
   ],
   "source": [
    "def isValid( s: str) -> bool:\n",
    "        '''\n",
    "        TC : O(n)\n",
    "        SC :O(n)\n",
    "        '''\n",
    "        stack = []\n",
    "\n",
    "        mapping = { \n",
    "                    ')': '(', \n",
    "                    ']': '[', \n",
    "                    '}': '{'\n",
    "                }\n",
    "\n",
    "        for char in s:\n",
    "            if char in mapping: # closing \n",
    "                if not stack or stack[-1] != mapping[char] :\n",
    "                    return False\n",
    "                else:\n",
    "                    stack.pop()\n",
    "            else: # opening\n",
    "                stack.append(char)\n",
    "        \n",
    "        return len(stack) == 0\n",
    "        \n",
    "ex1 = \"{}\"\n",
    "isValid(ex1)"
   ]
  },
  {
   "cell_type": "code",
   "execution_count": null,
   "id": "1590934c-5d96-4185-80f1-7ab3f6e7cef2",
   "metadata": {},
   "outputs": [],
   "source": []
  },
  {
   "cell_type": "code",
   "execution_count": null,
   "id": "577e66a3-cbcf-483c-840c-288efdeb1787",
   "metadata": {},
   "outputs": [],
   "source": []
  },
  {
   "cell_type": "code",
   "execution_count": null,
   "id": "3f3bfe67-9e3b-4c79-8be8-52f76ca86e76",
   "metadata": {},
   "outputs": [],
   "source": []
  },
  {
   "cell_type": "code",
   "execution_count": null,
   "id": "40cf0a76-83a6-4a42-9f45-962a8c719afc",
   "metadata": {},
   "outputs": [],
   "source": []
  },
  {
   "cell_type": "code",
   "execution_count": null,
   "id": "c36b85a6-e646-4f33-b940-65b602292453",
   "metadata": {},
   "outputs": [],
   "source": []
  },
  {
   "cell_type": "code",
   "execution_count": null,
   "id": "220e6d8d-a1a2-4c9d-ac3e-43c1bc1c3aa5",
   "metadata": {},
   "outputs": [],
   "source": []
  },
  {
   "cell_type": "markdown",
   "id": "9acb13d2-a2f0-46c0-9e12-ebe057737553",
   "metadata": {},
   "source": [
    "## **3. Min Stack (Get Minimum in O(1))**\n",
    "\n",
    "**Problem:**  \n",
    "Design a stack that supports:\n",
    "\n",
    "- push(x), pop(), top(), get_min() → all in O(1).\n",
    "\n",
    "**Approach:**\n",
    "\n",
    "- Maintain **two stacks**:\n",
    "    - Normal stack for values.   \n",
    "    - Min stack for current minimums.\n",
    "        \n",
    "- When pushing, also push to min stack if new element ≤ current min.\n",
    "- When popping, also pop from min stack if equal to top of min stack."
   ]
  },
  {
   "cell_type": "code",
   "execution_count": null,
   "id": "ce56a85e-2d27-4788-8b7e-0a3b643aea28",
   "metadata": {},
   "outputs": [],
   "source": [
    "class MinStack:\n",
    "\n",
    "    def __init__(self):\n",
    "        self._main_stack = []\n",
    "        self._helper_stack = [] # track the minimum\n",
    "        \n",
    "\n",
    "    def push(self, val: int) -> None:\n",
    "        '''\n",
    "        push to main stack\n",
    "        push the val to helper stack if its a new minimum else append the existing minimum\n",
    "        '''\n",
    "\n",
    "        self._main_stack.append(val)\n",
    "        if not self._helper_stack or val < self._helper_stack[-1]:\n",
    "            self._helper_stack.append(val)\n",
    "        else:\n",
    "            self._helper_stack.append(self._helper_stack[-1])\n",
    "        \n",
    "\n",
    "    def pop(self) -> None:\n",
    "        # if the main stack is empty, then we will raise error\n",
    "        if not self._main_stack: # check constraits if pop will be called on empty stack\n",
    "            raise Exception(\" stack is empty!!\")\n",
    "\n",
    "        val = self._main_stack.pop()\n",
    "        self._helper_stack.pop()\n",
    "\n",
    "        # return val\n",
    "\n",
    "    def top(self) -> int:\n",
    "        if not self._main_stack: # check constraits if pop will be called on empty stack\n",
    "            raise Exception(\" stack is empty!!\")\n",
    "\n",
    "        return self._main_stack[-1]\n",
    "        \n",
    "\n",
    "    def getMin(self) -> int:\n",
    "        if not self._main_stack: # check constraits if pop will be called on empty stack\n",
    "            raise Exception(\" stack is empty!!\")\n",
    "        \n",
    "        return self._helper_stack[-1]\n",
    "\n",
    "        \n",
    "\n",
    "\n",
    "# Your MinStack object will be instantiated and called as such:\n",
    "# obj = MinStack()\n",
    "# obj.push(val)\n",
    "# obj.pop()\n",
    "# param_3 = obj.top()\n",
    "# param_4 = obj.getMin()"
   ]
  },
  {
   "cell_type": "code",
   "execution_count": null,
   "id": "cba91ac7-ebdc-4159-a1af-e366a09e5df7",
   "metadata": {},
   "outputs": [],
   "source": []
  },
  {
   "cell_type": "code",
   "execution_count": null,
   "id": "0bc10156-e1ba-4612-a73c-9960e74a67e2",
   "metadata": {},
   "outputs": [],
   "source": []
  },
  {
   "cell_type": "code",
   "execution_count": null,
   "id": "afd6d267-c77f-465a-baf0-8552642e883a",
   "metadata": {},
   "outputs": [],
   "source": []
  },
  {
   "cell_type": "code",
   "execution_count": null,
   "id": "c5505a81-f1f3-4daa-910a-d6c6a115ec11",
   "metadata": {},
   "outputs": [],
   "source": []
  },
  {
   "cell_type": "code",
   "execution_count": null,
   "id": "fc355831-fb2a-431f-8698-31a830e617c4",
   "metadata": {},
   "outputs": [],
   "source": []
  },
  {
   "cell_type": "code",
   "execution_count": null,
   "id": "cb64cdce-4a0f-47bd-9ddd-b8924bd04885",
   "metadata": {},
   "outputs": [],
   "source": []
  },
  {
   "cell_type": "markdown",
   "id": "3fc00c8a-7a07-448a-bef4-646442cf05d5",
   "metadata": {},
   "source": [
    "## **4. Sort a stack using another stack**\n",
    "\n",
    "Given a stack of integers, sort it in ascending order (smallest on top) using only another stack as auxiliary storage. You can only use standard stack operations: push, pop, peek, and isEmpty.\n",
    "\n",
    "```python\n",
    "original_stack = [3, 1, 4, 2]  # 2 is on top, 3 is at bottom\n",
    "sorted_stack = [4, 3, 2, 1]    # 1 is on top, 4 is at bottom\n",
    "```"
   ]
  },
  {
   "cell_type": "code",
   "execution_count": 189,
   "id": "cb723cd5-f47a-4ec6-8f18-9f50d7665386",
   "metadata": {},
   "outputs": [],
   "source": [
    "class ListStack:\n",
    "    '''\n",
    "    Stack  implementation using a List\n",
    "    push\n",
    "    pop\n",
    "    peek\n",
    "    is_empty\n",
    "    size\n",
    "    '''\n",
    "\n",
    "\n",
    "    def __init__(self):\n",
    "        self._list = [] #protected variable\n",
    "\n",
    "    def push(self, value):\n",
    "        '''\n",
    "        Push an element in the stack\n",
    "        TC : O(1)\n",
    "        '''\n",
    "        self._list.append(value)\n",
    "\n",
    "    def pop(self):\n",
    "        '''\n",
    "        pop an element from the stack\n",
    "        TC: O(1)\n",
    "        '''\n",
    "        ## check if the stack is empty\n",
    "        if self.is_empty():\n",
    "            raise Exception(\"The stack is empty!\")\n",
    "        return self._list.pop()\n",
    "\n",
    "    def peek(self):\n",
    "        '''\n",
    "        Return the top element  without removing it!\n",
    "        TC: O(1)\n",
    "        '''\n",
    "        if self.is_empty():\n",
    "            raise Exception(\"The stack is empty!\")\n",
    "        return self._list[-1]\n",
    "\n",
    "    def is_empty(self):\n",
    "        '''\n",
    "        To check if the stack is empty.\n",
    "        TC: O(1)\n",
    "        '''\n",
    "        return len(self._list) == 0\n",
    "\n",
    "    def size(self):\n",
    "        '''\n",
    "        To get the size of the stack\n",
    "        '''\n",
    "        return len(self._list)\n",
    "\n",
    "    def sort(self):\n",
    "        '''\n",
    "        Time Complexity: O(n^2)\n",
    "        Space Complexity : O(n)\n",
    "        '''\n",
    "        temp = []  # you can also take a stack\n",
    "        while not self.is_empty():\n",
    "            val = self.pop()\n",
    "            while temp and val < temp[-1]:\n",
    "                self.push(temp.pop())\n",
    "            temp.append(val)\n",
    "\n",
    "        while temp:\n",
    "            self.push(temp.pop())\n",
    "            \n",
    "\n",
    "    \n",
    "    def to_list(self):  \n",
    "        return list(self._list)  # it will return a copy of internal list\n",
    "\n",
    "    def __str__(self):\n",
    "        return (\"\\n\"+\"---\"+\"\\n\").join([str(x) for x in reversed(self._list)])\n",
    "\n",
    "    def __repr__(self):\n",
    "        return (\"\\n\"+\"---\"+\"\\n\").join([str(x) for x in reversed(self._list)])\n",
    "        \n",
    "        "
   ]
  },
  {
   "cell_type": "code",
   "execution_count": 191,
   "id": "d1b42fae-30eb-4b7f-a89f-0f95154c2c3d",
   "metadata": {},
   "outputs": [],
   "source": [
    "\n",
    "stack = ListStack()"
   ]
  },
  {
   "cell_type": "code",
   "execution_count": 193,
   "id": "34dcb82b-3ad1-4f58-8928-86b14c78a733",
   "metadata": {},
   "outputs": [],
   "source": [
    "stack.push(5)\n",
    "stack.push(8)\n",
    "stack.push(20)\n",
    "stack.push(16)\n",
    "stack.push(10)"
   ]
  },
  {
   "cell_type": "code",
   "execution_count": 194,
   "id": "b6bf9202-6597-40ef-b2ee-0fd050b8e3f3",
   "metadata": {},
   "outputs": [
    {
     "data": {
      "text/plain": [
       "10\n",
       "---\n",
       "16\n",
       "---\n",
       "20\n",
       "---\n",
       "8\n",
       "---\n",
       "5"
      ]
     },
     "execution_count": 194,
     "metadata": {},
     "output_type": "execute_result"
    }
   ],
   "source": [
    "stack"
   ]
  },
  {
   "cell_type": "code",
   "execution_count": 195,
   "id": "0ba3a889-a589-4951-9dbb-31569afdd16d",
   "metadata": {},
   "outputs": [],
   "source": [
    "stack.sort()"
   ]
  },
  {
   "cell_type": "code",
   "execution_count": 196,
   "id": "fd41e6c1-3ad8-4eb8-bcd3-f1a1da89669d",
   "metadata": {},
   "outputs": [
    {
     "data": {
      "text/plain": [
       "5\n",
       "---\n",
       "8\n",
       "---\n",
       "10\n",
       "---\n",
       "16\n",
       "---\n",
       "20"
      ]
     },
     "execution_count": 196,
     "metadata": {},
     "output_type": "execute_result"
    }
   ],
   "source": [
    "stack"
   ]
  },
  {
   "cell_type": "code",
   "execution_count": null,
   "id": "f6af1ca3-1296-42e9-bc5a-fe6c81b65784",
   "metadata": {},
   "outputs": [],
   "source": []
  },
  {
   "cell_type": "code",
   "execution_count": null,
   "id": "30a9c503-8daf-4eab-a641-99a9b4f0ff49",
   "metadata": {},
   "outputs": [],
   "source": []
  },
  {
   "cell_type": "code",
   "execution_count": null,
   "id": "866f9151-5428-4f8d-bcf9-79157c8e79a0",
   "metadata": {},
   "outputs": [],
   "source": []
  },
  {
   "cell_type": "code",
   "execution_count": null,
   "id": "1a2ffd47-ea25-4917-b93e-b7728620de2c",
   "metadata": {},
   "outputs": [],
   "source": []
  },
  {
   "cell_type": "markdown",
   "id": "5d861d62-64c0-4e30-8441-7bb2bee6e808",
   "metadata": {},
   "source": [
    "## **5. Next greater element**\n",
    "\n",
    "Given an array, find the next greater element for each element. The next greater element is the first greater element to the right. If no such element exists, return -1.\n",
    "\n",
    "```python\n",
    "nums = [4, 5, 2, 25]\n",
    "Output: [5, 25, 25, -1]\n",
    "\n",
    "- For 4: next greater is 5\n",
    "- For 5: next greater is 25\n",
    "- For 2: next greater is 25\n",
    "- For 25: no greater element, so -1\n",
    "  \n",
    "```"
   ]
  },
  {
   "cell_type": "code",
   "execution_count": 198,
   "id": "781ef1c5-c511-4f60-ab70-5626c8f0d987",
   "metadata": {},
   "outputs": [
    {
     "data": {
      "text/plain": [
       "[16, 16, 100, 100, -1]"
      ]
     },
     "execution_count": 198,
     "metadata": {},
     "output_type": "execute_result"
    }
   ],
   "source": [
    "def next_greater_element(nums):\n",
    "\n",
    "    result = [-1] * len(nums)\n",
    "    temp = []\n",
    "    for ind, val in enumerate(nums):\n",
    "\n",
    "        while temp and val > temp[-1][1]:\n",
    "            i, v = temp.pop()\n",
    "            result[i] = val\n",
    "            \n",
    "        temp.append((ind, val))\n",
    "\n",
    "    return result\n",
    "\n",
    "next_greater_element([8, -2, 16, 3, 100])"
   ]
  },
  {
   "cell_type": "code",
   "execution_count": null,
   "id": "3fdf48c2-f65d-41ad-a58f-4d78ad05be9c",
   "metadata": {},
   "outputs": [],
   "source": []
  },
  {
   "cell_type": "code",
   "execution_count": null,
   "id": "347c9525-9d0b-4a4e-a549-08b9517e83b1",
   "metadata": {},
   "outputs": [],
   "source": []
  },
  {
   "cell_type": "code",
   "execution_count": null,
   "id": "5c999e64-8e45-462f-818c-f08aedb2369d",
   "metadata": {},
   "outputs": [],
   "source": []
  },
  {
   "cell_type": "code",
   "execution_count": null,
   "id": "2838cc20-3dfc-415c-8563-8fb61b5df089",
   "metadata": {},
   "outputs": [],
   "source": []
  },
  {
   "cell_type": "code",
   "execution_count": null,
   "id": "3dbc594d-a891-475e-b45c-eb68c0e8252c",
   "metadata": {},
   "outputs": [],
   "source": []
  },
  {
   "cell_type": "code",
   "execution_count": null,
   "id": "a93726f8-6aa3-463e-a3ed-96d0711b2cbc",
   "metadata": {},
   "outputs": [],
   "source": []
  },
  {
   "cell_type": "markdown",
   "id": "a22f0296-6558-4bd3-a15f-236f3fcb9272",
   "metadata": {},
   "source": [
    "## **6. Minimum Add to Make Parentheses Valid**\n",
    "[Leetcode 921. Minimum Add to Make Parentheses Valid](https://leetcode.com/problems/minimum-add-to-make-parentheses-valid/)\n",
    "\n",
    "A parentheses string is valid if and only if:\n",
    "\n",
    "It is the empty string,\n",
    "It can be written as AB (A concatenated with B), where A and B are valid strings, or\n",
    "It can be written as (A), where A is a valid string.\n",
    "You are given a parentheses string s. In one move, you can insert a parenthesis at any position of the string.\n",
    "\n",
    "For example, if s = \"()))\", you can insert an opening parenthesis to be \"(()))\" or a closing parenthesis to be \"())))\".\n",
    "Return the minimum number of moves required to make s valid.\n",
    "\n",
    " \n",
    "```\n",
    "Example 1:\n",
    "\n",
    "Input: s = \"())\"\n",
    "Output: 1\n",
    "\n",
    "Example 2:\n",
    "\n",
    "Input: s = \"(((\"\n",
    "Output: 3\n",
    "```"
   ]
  },
  {
   "cell_type": "code",
   "execution_count": null,
   "id": "56a802f8-b153-496d-ae94-0847ef345bd6",
   "metadata": {},
   "outputs": [],
   "source": [
    "class Solution:\n",
    "    def minAddToMakeValid(self, s: str) -> int:\n",
    "       '''\n",
    "        TC : O(n)\n",
    "        SC : O(n) # possible to optimise to O(1) \n",
    "        '''\n",
    "\n",
    "        temp = [] # stack\n",
    "\n",
    "        for char in s:\n",
    "            if char == \")\":  # if closing bracket\n",
    "                if temp and temp[-1] == \"(\":\n",
    "                    temp.pop()\n",
    "                else:\n",
    "                    temp.append(char)         \n",
    "            else: # opening bracket\n",
    "                temp.append(char)\n",
    "        \n",
    "        return len(temp)"
   ]
  },
  {
   "cell_type": "code",
   "execution_count": null,
   "id": "04af63bd-7551-4419-b2ed-715e7d9b7ede",
   "metadata": {},
   "outputs": [],
   "source": [
    "class Solution:\n",
    "    def minAddToMakeValid(self, s: str) -> int:\n",
    "        '''\n",
    "        TC : O(n)\n",
    "        SC : O(1)\n",
    "        '''\n",
    "\n",
    "        open_count, close_count  = 0, 0\n",
    "\n",
    "        for char in s:\n",
    "            if char == \"(\":\n",
    "                open_count += 1\n",
    "            else: # bracket is closing\n",
    "                if open_count > 0:\n",
    "                    open_count -= 1\n",
    "                else:\n",
    "                    close_count += 1\n",
    "        \n",
    "        return open_count+ close_count\n"
   ]
  },
  {
   "cell_type": "code",
   "execution_count": null,
   "id": "1f6afd45-4247-406a-98c8-547ff01c6865",
   "metadata": {},
   "outputs": [],
   "source": []
  },
  {
   "cell_type": "code",
   "execution_count": null,
   "id": "93fdc779-369b-4e2a-b664-6a9ed07b51cc",
   "metadata": {},
   "outputs": [],
   "source": []
  },
  {
   "cell_type": "code",
   "execution_count": null,
   "id": "2654090b-496a-46c3-8cd1-5b07f56d3474",
   "metadata": {},
   "outputs": [],
   "source": []
  },
  {
   "cell_type": "code",
   "execution_count": null,
   "id": "5af77cd4-b193-4522-b77b-e7e1d12afcf3",
   "metadata": {},
   "outputs": [],
   "source": []
  },
  {
   "cell_type": "code",
   "execution_count": null,
   "id": "91413661-4b4e-44d0-b940-e5ab4126d7e3",
   "metadata": {},
   "outputs": [],
   "source": []
  },
  {
   "cell_type": "markdown",
   "id": "092019a7-d99b-47b6-a9dd-2defa211bed6",
   "metadata": {},
   "source": [
    "## **7. Minimum Remove to Make Valid Parentheses**\n",
    "[Leetcode 1249. Minimum Remove to Make Valid Parentheses](https://leetcode.com/problems/minimum-remove-to-make-valid-parentheses/description/)\n",
    "\n",
    "\n",
    "Given a string s of '(' , ')' and lowercase English characters.\n",
    "\n",
    "Your task is to remove the minimum number of parentheses ( '(' or ')', in any positions ) so that the resulting parentheses string is valid and return any valid string.\n",
    "\n",
    "Formally, a parentheses string is valid if and only if:\n",
    "\n",
    "It is the empty string, contains only lowercase characters, or\n",
    "It can be written as AB (A concatenated with B), where A and B are valid strings, or\n",
    "It can be written as (A), where A is a valid string.\n",
    " \n",
    "\n",
    "```Example 1:\n",
    "\n",
    "Input: s = \"lee(t(c)o)de)\"\n",
    "Output: \"lee(t(c)o)de\"\n",
    "Explanation: \"lee(t(co)de)\" , \"lee(t(c)ode)\" would also be accepted.\n",
    "Example 2:\n",
    "\n",
    "Input: s = \"a)b(c)d\"\n",
    "Output: \"ab(c)d\"\n",
    "Example 3:\n",
    "\n",
    "Input: s = \"))((\"\n",
    "Output: \"\"\n",
    "Explanation: An empty string is also valid.\n",
    "```"
   ]
  },
  {
   "cell_type": "code",
   "execution_count": null,
   "id": "7ebc0c23-68de-4934-b8b8-78fa08ca3554",
   "metadata": {},
   "outputs": [],
   "source": []
  },
  {
   "cell_type": "code",
   "execution_count": null,
   "id": "65dc6fa1-a4f9-4a99-8d9d-f6a366667e45",
   "metadata": {},
   "outputs": [],
   "source": []
  },
  {
   "cell_type": "code",
   "execution_count": null,
   "id": "9bc19e1c-fba1-4e15-9dd0-9934f6d264a9",
   "metadata": {},
   "outputs": [],
   "source": []
  },
  {
   "cell_type": "code",
   "execution_count": null,
   "id": "af43f53f-2524-4672-9a94-d7106c040735",
   "metadata": {},
   "outputs": [],
   "source": []
  },
  {
   "cell_type": "code",
   "execution_count": null,
   "id": "871ddeaa-3340-45b8-896c-cb695094356b",
   "metadata": {},
   "outputs": [],
   "source": []
  }
 ],
 "metadata": {
  "kernelspec": {
   "display_name": "Python 3 (ipykernel)",
   "language": "python",
   "name": "python3"
  },
  "language_info": {
   "codemirror_mode": {
    "name": "ipython",
    "version": 3
   },
   "file_extension": ".py",
   "mimetype": "text/x-python",
   "name": "python",
   "nbconvert_exporter": "python",
   "pygments_lexer": "ipython3",
   "version": "3.13.5"
  }
 },
 "nbformat": 4,
 "nbformat_minor": 5
}
